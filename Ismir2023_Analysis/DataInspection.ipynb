{
 "cells": [
  {
   "cell_type": "code",
   "execution_count": 1,
   "id": "03739f64",
   "metadata": {},
   "outputs": [
    {
     "name": "stdout",
     "output_type": "stream",
     "text": [
      "/home/dtic/Github/dualization_dataset\n"
     ]
    }
   ],
   "source": [
    "%cd .."
   ]
  },
  {
   "cell_type": "code",
   "execution_count": 3,
   "id": "92715a9e",
   "metadata": {},
   "outputs": [],
   "source": [
    "from hvo_sequence import HVO_Sequence, midi_to_hvo_sequence\n",
    "from hvo_sequence import ROLAND_REDUCED_MAPPING\n",
    "import os"
   ]
  },
  {
   "cell_type": "markdown",
   "id": "15b6aded",
   "metadata": {},
   "source": [
    "**NOTE** In the filenames, `drummer_x` refers to the drummer tags used within [GrooveMidiDataset]() while `Participant_x` refers to the drummer used in our dualization experiments"
   ]
  },
  {
   "cell_type": "markdown",
   "id": "15899b6f",
   "metadata": {},
   "source": [
    "# Subset 1: Dualization of Random Repetitions\n",
    "\n",
    "## Description\n",
    "\n",
    "In this set, we asked the drummers to dualize a number of drum patterns. Each pattern was repeated three times and presented randomly to the drummers. The drummers were not notified that there was repeated patterns to be tested. That said, they soon were able to realize that some patterns were repeated.\n",
    "\n",
    "For participant 1, we tested 72 examples with three repetitions. The data can be found in:\n",
    "\n",
    "```shell\n",
    "/processed_data/InterDrummer_Repetitions/Participant_1\n",
    "```\n",
    "\n",
    "Given time limitations, we couldn't test all 72 samples across all drummers. As such, 24 test examples were selected from the 72 samples and were subsequently presented to Participants 2 to 4 for dualization. These data can be found in: \n",
    "\n",
    "```shell\n",
    "/processed_data/InterDrummer_Repetitions/Participant_2\n",
    "/processed_data/InterDrummer_Repetitions/Participant_3\n",
    "/processed_data/InterDrummer_Repetitions/Participant_4\n",
    "```"
   ]
  },
  {
   "cell_type": "code",
   "execution_count": 4,
   "id": "028b3e06",
   "metadata": {},
   "outputs": [],
   "source": [
    "root_path = \"/processed_data/InterDrummer_Repetitions/\""
   ]
  },
  {
   "cell_type": "code",
   "execution_count": null,
   "id": "ef80885e",
   "metadata": {},
   "outputs": [],
   "source": []
  }
 ],
 "metadata": {
  "kernelspec": {
   "display_name": "GrooveTransformer",
   "language": "python",
   "name": "groovetransformer"
  },
  "language_info": {
   "codemirror_mode": {
    "name": "ipython",
    "version": 3
   },
   "file_extension": ".py",
   "mimetype": "text/x-python",
   "name": "python",
   "nbconvert_exporter": "python",
   "pygments_lexer": "ipython3",
   "version": "3.9.16"
  }
 },
 "nbformat": 4,
 "nbformat_minor": 5
}
