{
 "cells": [
  {
   "cell_type": "code",
   "execution_count": 1,
   "id": "03739f64",
   "metadata": {},
   "outputs": [
    {
     "name": "stdout",
     "output_type": "stream",
     "text": [
      "/home/dtic/Github/dualization_dataset\n"
     ]
    }
   ],
   "source": [
    "%cd .."
   ]
  },
  {
   "cell_type": "code",
   "execution_count": 2,
   "id": "92715a9e",
   "metadata": {},
   "outputs": [],
   "source": [
    "from hvo_sequence import HVO_Sequence, midi_to_hvo_sequence\n",
    "from hvo_sequence.drum_mappings import ROLAND_REDUCED_MAPPING, DUALIZATION_ROLAND_HAND_DRUM, DUALIZATION_ROLAND_HAND_DRUM_MIXED\n",
    "import os, glob"
   ]
  },
  {
   "cell_type": "markdown",
   "id": "fc4deb70",
   "metadata": {},
   "source": [
    "**NOTE** In the filenames, `drummer_x` refers to the drummer tags used within [GrooveMidiDataset]() while `Participant_x` refers to the drummer used in our dualization experiments"
   ]
  },
  {
   "cell_type": "markdown",
   "id": "b99f57fa",
   "metadata": {},
   "source": [
    "# Subset 1: Dualization of Random Repetitions\n",
    "\n",
    "## Description\n",
    "\n",
    "In this set, we asked the drummers to dualize a number of drum patterns. Each pattern was repeated three times and presented randomly to the drummers. The drummers were not notified that there was repeated patterns to be tested. That said, they soon were able to realize that some patterns were repeated.\n",
    "\n",
    "For participant 1, we tested 72 examples with three repetitions. The data can be found in:\n",
    "\n",
    "Given time limitations, we couldn't test all 72 samples across all drummers. As such, 24 test examples were selected from the 72 samples and were subsequently presented to Participants 2 to 4 for dualization. \n",
    "\n"
   ]
  },
  {
   "cell_type": "markdown",
   "id": "5acc9250",
   "metadata": {},
   "source": [
    "The 24 samples tested across all participants can be found in  \n",
    "\n",
    "```\n",
    "/processed_data/Repetitions/tested_with_four_participants/[test_id]/*.mid\n",
    "```"
   ]
  },
  {
   "cell_type": "markdown",
   "id": "2844e8ed",
   "metadata": {},
   "source": [
    "The rest of 48 samples (only tested with Participant_1) can be found in \n",
    "\n",
    "```\n",
    "/processed_data/Repetitions/tested_with_Participant_1_Only/[test_id]/*.mid\n",
    "```"
   ]
  },
  {
   "cell_type": "markdown",
   "id": "b0f01540",
   "metadata": {},
   "source": [
    "**NOTE** `test_id` corresponds to the sample tags in [GrooveMidiDataset]() \n",
    "\n",
    "```\n",
    "test_id = f\"{session}_{style}_{tempo}_{type=Beat}_{meter=4-4}_{SegmentFromPerformace}}\" \n",
    "```"
   ]
  },
  {
   "cell_type": "code",
   "execution_count": null,
   "id": "2da8a510",
   "metadata": {},
   "outputs": [],
   "source": [
    "# organize data as dictionaries\n",
    "root_path = \"./processed_data/Repetitions/tested_with_four_participants/\"\n",
    "examples = glob.glob(os.path.join(root_path, \"*\"))"
   ]
  },
  {
   "cell_type": "code",
   "execution_count": 21,
   "id": "cea5a15f",
   "metadata": {},
   "outputs": [],
   "source": [
    "temp = examples[-1].split('/')[-1]\n",
    "temp_segs = temp.split(\"_\")\n",
    "gmd_id = f\"{temp_segs[0]}_{temp_segs[-3]}_{temp_segs[-2]}_{temp_segs[-1]}\"\n",
    "style = temp_segs[1].split(\"-\")[0]\n"
   ]
  },
  {
   "cell_type": "code",
   "execution_count": 22,
   "id": "7ef2f2fc",
   "metadata": {},
   "outputs": [
    {
     "data": {
      "text/plain": [
       "['drummer1-session1-202',\n",
       " 'rock-halftime',\n",
       " '140',\n",
       " 'beat',\n",
       " '4-4',\n",
       " 'best',\n",
       " '2bar',\n",
       " 'segment',\n",
       " '10']"
      ]
     },
     "execution_count": 22,
     "metadata": {},
     "output_type": "execute_result"
    }
   ],
   "source": [
    "temp = examples[-1].split('/')[-1]\n",
    "temp_segs = temp.split(\"_\")\n",
    "temp_segs"
   ]
  },
  {
   "cell_type": "code",
   "execution_count": 31,
   "id": "0942bbd7",
   "metadata": {},
   "outputs": [],
   "source": [
    "hvo_seq_original = midi_to_hvo_sequence (\n",
    "    filename=os.path.join(examples[-1], 'original.mid'), \n",
    "    drum_mapping=ROLAND_REDUCED_MAPPING, \n",
    "    beat_division_factors=[4])\n",
    "hvo_seq_original.metadata.update({\n",
    "    \"gmd_id\": gmd_id,\n",
    "    \"style\": style,\n",
    "}) \n",
    "\n",
    "\n",
    "hvo_seq_p1_rep1 = midi_to_hvo_sequence (\n",
    "    filename=os.path.join(examples[-1], 'Participant_1_repetition_0.mid'), \n",
    "    drum_mapping=DUALIZATION_ROLAND_HAND_DRUM, \n",
    "    beat_division_factors=[4]) \n",
    "hvo_seq_original.metadata.update({\n",
    "    \"gmd_id\": gmd_id,\n",
    "    \"style\": style,\n",
    "}) \n"
   ]
  },
  {
   "cell_type": "code",
   "execution_count": 33,
   "id": "58f1d5f7",
   "metadata": {},
   "outputs": [
    {
     "data": {
      "text/html": [
       "<div class=\"bk-root\">\n",
       "        <a href=\"https://bokeh.org\" target=\"_blank\" class=\"bk-logo bk-logo-small bk-logo-notebook\"></a>\n",
       "        <span id=\"3602\">Loading BokehJS ...</span>\n",
       "    </div>\n"
      ]
     },
     "metadata": {},
     "output_type": "display_data"
    },
    {
     "data": {
      "application/javascript": [
       "(function(root) {\n",
       "  function now() {\n",
       "    return new Date();\n",
       "  }\n",
       "\n",
       "  const force = true;\n",
       "\n",
       "  if (typeof root._bokeh_onload_callbacks === \"undefined\" || force === true) {\n",
       "    root._bokeh_onload_callbacks = [];\n",
       "    root._bokeh_is_loading = undefined;\n",
       "  }\n",
       "\n",
       "const JS_MIME_TYPE = 'application/javascript';\n",
       "  const HTML_MIME_TYPE = 'text/html';\n",
       "  const EXEC_MIME_TYPE = 'application/vnd.bokehjs_exec.v0+json';\n",
       "  const CLASS_NAME = 'output_bokeh rendered_html';\n",
       "\n",
       "  /**\n",
       "   * Render data to the DOM node\n",
       "   */\n",
       "  function render(props, node) {\n",
       "    const script = document.createElement(\"script\");\n",
       "    node.appendChild(script);\n",
       "  }\n",
       "\n",
       "  /**\n",
       "   * Handle when an output is cleared or removed\n",
       "   */\n",
       "  function handleClearOutput(event, handle) {\n",
       "    const cell = handle.cell;\n",
       "\n",
       "    const id = cell.output_area._bokeh_element_id;\n",
       "    const server_id = cell.output_area._bokeh_server_id;\n",
       "    // Clean up Bokeh references\n",
       "    if (id != null && id in Bokeh.index) {\n",
       "      Bokeh.index[id].model.document.clear();\n",
       "      delete Bokeh.index[id];\n",
       "    }\n",
       "\n",
       "    if (server_id !== undefined) {\n",
       "      // Clean up Bokeh references\n",
       "      const cmd_clean = \"from bokeh.io.state import curstate; print(curstate().uuid_to_server['\" + server_id + \"'].get_sessions()[0].document.roots[0]._id)\";\n",
       "      cell.notebook.kernel.execute(cmd_clean, {\n",
       "        iopub: {\n",
       "          output: function(msg) {\n",
       "            const id = msg.content.text.trim();\n",
       "            if (id in Bokeh.index) {\n",
       "              Bokeh.index[id].model.document.clear();\n",
       "              delete Bokeh.index[id];\n",
       "            }\n",
       "          }\n",
       "        }\n",
       "      });\n",
       "      // Destroy server and session\n",
       "      const cmd_destroy = \"import bokeh.io.notebook as ion; ion.destroy_server('\" + server_id + \"')\";\n",
       "      cell.notebook.kernel.execute(cmd_destroy);\n",
       "    }\n",
       "  }\n",
       "\n",
       "  /**\n",
       "   * Handle when a new output is added\n",
       "   */\n",
       "  function handleAddOutput(event, handle) {\n",
       "    const output_area = handle.output_area;\n",
       "    const output = handle.output;\n",
       "\n",
       "    // limit handleAddOutput to display_data with EXEC_MIME_TYPE content only\n",
       "    if ((output.output_type != \"display_data\") || (!Object.prototype.hasOwnProperty.call(output.data, EXEC_MIME_TYPE))) {\n",
       "      return\n",
       "    }\n",
       "\n",
       "    const toinsert = output_area.element.find(\".\" + CLASS_NAME.split(' ')[0]);\n",
       "\n",
       "    if (output.metadata[EXEC_MIME_TYPE][\"id\"] !== undefined) {\n",
       "      toinsert[toinsert.length - 1].firstChild.textContent = output.data[JS_MIME_TYPE];\n",
       "      // store reference to embed id on output_area\n",
       "      output_area._bokeh_element_id = output.metadata[EXEC_MIME_TYPE][\"id\"];\n",
       "    }\n",
       "    if (output.metadata[EXEC_MIME_TYPE][\"server_id\"] !== undefined) {\n",
       "      const bk_div = document.createElement(\"div\");\n",
       "      bk_div.innerHTML = output.data[HTML_MIME_TYPE];\n",
       "      const script_attrs = bk_div.children[0].attributes;\n",
       "      for (let i = 0; i < script_attrs.length; i++) {\n",
       "        toinsert[toinsert.length - 1].firstChild.setAttribute(script_attrs[i].name, script_attrs[i].value);\n",
       "        toinsert[toinsert.length - 1].firstChild.textContent = bk_div.children[0].textContent\n",
       "      }\n",
       "      // store reference to server id on output_area\n",
       "      output_area._bokeh_server_id = output.metadata[EXEC_MIME_TYPE][\"server_id\"];\n",
       "    }\n",
       "  }\n",
       "\n",
       "  function register_renderer(events, OutputArea) {\n",
       "\n",
       "    function append_mime(data, metadata, element) {\n",
       "      // create a DOM node to render to\n",
       "      const toinsert = this.create_output_subarea(\n",
       "        metadata,\n",
       "        CLASS_NAME,\n",
       "        EXEC_MIME_TYPE\n",
       "      );\n",
       "      this.keyboard_manager.register_events(toinsert);\n",
       "      // Render to node\n",
       "      const props = {data: data, metadata: metadata[EXEC_MIME_TYPE]};\n",
       "      render(props, toinsert[toinsert.length - 1]);\n",
       "      element.append(toinsert);\n",
       "      return toinsert\n",
       "    }\n",
       "\n",
       "    /* Handle when an output is cleared or removed */\n",
       "    events.on('clear_output.CodeCell', handleClearOutput);\n",
       "    events.on('delete.Cell', handleClearOutput);\n",
       "\n",
       "    /* Handle when a new output is added */\n",
       "    events.on('output_added.OutputArea', handleAddOutput);\n",
       "\n",
       "    /**\n",
       "     * Register the mime type and append_mime function with output_area\n",
       "     */\n",
       "    OutputArea.prototype.register_mime_type(EXEC_MIME_TYPE, append_mime, {\n",
       "      /* Is output safe? */\n",
       "      safe: true,\n",
       "      /* Index of renderer in `output_area.display_order` */\n",
       "      index: 0\n",
       "    });\n",
       "  }\n",
       "\n",
       "  // register the mime type if in Jupyter Notebook environment and previously unregistered\n",
       "  if (root.Jupyter !== undefined) {\n",
       "    const events = require('base/js/events');\n",
       "    const OutputArea = require('notebook/js/outputarea').OutputArea;\n",
       "\n",
       "    if (OutputArea.prototype.mime_types().indexOf(EXEC_MIME_TYPE) == -1) {\n",
       "      register_renderer(events, OutputArea);\n",
       "    }\n",
       "  }\n",
       "  if (typeof (root._bokeh_timeout) === \"undefined\" || force === true) {\n",
       "    root._bokeh_timeout = Date.now() + 5000;\n",
       "    root._bokeh_failed_load = false;\n",
       "  }\n",
       "\n",
       "  const NB_LOAD_WARNING = {'data': {'text/html':\n",
       "     \"<div style='background-color: #fdd'>\\n\"+\n",
       "     \"<p>\\n\"+\n",
       "     \"BokehJS does not appear to have successfully loaded. If loading BokehJS from CDN, this \\n\"+\n",
       "     \"may be due to a slow or bad network connection. Possible fixes:\\n\"+\n",
       "     \"</p>\\n\"+\n",
       "     \"<ul>\\n\"+\n",
       "     \"<li>re-rerun `output_notebook()` to attempt to load from CDN again, or</li>\\n\"+\n",
       "     \"<li>use INLINE resources instead, as so:</li>\\n\"+\n",
       "     \"</ul>\\n\"+\n",
       "     \"<code>\\n\"+\n",
       "     \"from bokeh.resources import INLINE\\n\"+\n",
       "     \"output_notebook(resources=INLINE)\\n\"+\n",
       "     \"</code>\\n\"+\n",
       "     \"</div>\"}};\n",
       "\n",
       "  function display_loaded() {\n",
       "    const el = document.getElementById(\"3602\");\n",
       "    if (el != null) {\n",
       "      el.textContent = \"BokehJS is loading...\";\n",
       "    }\n",
       "    if (root.Bokeh !== undefined) {\n",
       "      if (el != null) {\n",
       "        el.textContent = \"BokehJS \" + root.Bokeh.version + \" successfully loaded.\";\n",
       "      }\n",
       "    } else if (Date.now() < root._bokeh_timeout) {\n",
       "      setTimeout(display_loaded, 100)\n",
       "    }\n",
       "  }\n",
       "\n",
       "  function run_callbacks() {\n",
       "    try {\n",
       "      root._bokeh_onload_callbacks.forEach(function(callback) {\n",
       "        if (callback != null)\n",
       "          callback();\n",
       "      });\n",
       "    } finally {\n",
       "      delete root._bokeh_onload_callbacks\n",
       "    }\n",
       "    console.debug(\"Bokeh: all callbacks have finished\");\n",
       "  }\n",
       "\n",
       "  function load_libs(css_urls, js_urls, callback) {\n",
       "    if (css_urls == null) css_urls = [];\n",
       "    if (js_urls == null) js_urls = [];\n",
       "\n",
       "    root._bokeh_onload_callbacks.push(callback);\n",
       "    if (root._bokeh_is_loading > 0) {\n",
       "      console.debug(\"Bokeh: BokehJS is being loaded, scheduling callback at\", now());\n",
       "      return null;\n",
       "    }\n",
       "    if (js_urls == null || js_urls.length === 0) {\n",
       "      run_callbacks();\n",
       "      return null;\n",
       "    }\n",
       "    console.debug(\"Bokeh: BokehJS not loaded, scheduling load and callback at\", now());\n",
       "    root._bokeh_is_loading = css_urls.length + js_urls.length;\n",
       "\n",
       "    function on_load() {\n",
       "      root._bokeh_is_loading--;\n",
       "      if (root._bokeh_is_loading === 0) {\n",
       "        console.debug(\"Bokeh: all BokehJS libraries/stylesheets loaded\");\n",
       "        run_callbacks()\n",
       "      }\n",
       "    }\n",
       "\n",
       "    function on_error(url) {\n",
       "      console.error(\"failed to load \" + url);\n",
       "    }\n",
       "\n",
       "    for (let i = 0; i < css_urls.length; i++) {\n",
       "      const url = css_urls[i];\n",
       "      const element = document.createElement(\"link\");\n",
       "      element.onload = on_load;\n",
       "      element.onerror = on_error.bind(null, url);\n",
       "      element.rel = \"stylesheet\";\n",
       "      element.type = \"text/css\";\n",
       "      element.href = url;\n",
       "      console.debug(\"Bokeh: injecting link tag for BokehJS stylesheet: \", url);\n",
       "      document.body.appendChild(element);\n",
       "    }\n",
       "\n",
       "    for (let i = 0; i < js_urls.length; i++) {\n",
       "      const url = js_urls[i];\n",
       "      const element = document.createElement('script');\n",
       "      element.onload = on_load;\n",
       "      element.onerror = on_error.bind(null, url);\n",
       "      element.async = false;\n",
       "      element.src = url;\n",
       "      console.debug(\"Bokeh: injecting script tag for BokehJS library: \", url);\n",
       "      document.head.appendChild(element);\n",
       "    }\n",
       "  };\n",
       "\n",
       "  function inject_raw_css(css) {\n",
       "    const element = document.createElement(\"style\");\n",
       "    element.appendChild(document.createTextNode(css));\n",
       "    document.body.appendChild(element);\n",
       "  }\n",
       "\n",
       "  const js_urls = [\"https://cdn.bokeh.org/bokeh/release/bokeh-2.4.3.min.js\", \"https://cdn.bokeh.org/bokeh/release/bokeh-gl-2.4.3.min.js\", \"https://cdn.bokeh.org/bokeh/release/bokeh-widgets-2.4.3.min.js\", \"https://cdn.bokeh.org/bokeh/release/bokeh-tables-2.4.3.min.js\", \"https://cdn.bokeh.org/bokeh/release/bokeh-mathjax-2.4.3.min.js\"];\n",
       "  const css_urls = [];\n",
       "\n",
       "  const inline_js = [    function(Bokeh) {\n",
       "      Bokeh.set_log_level(\"info\");\n",
       "    },\n",
       "function(Bokeh) {\n",
       "    }\n",
       "  ];\n",
       "\n",
       "  function run_inline_js() {\n",
       "    if (root.Bokeh !== undefined || force === true) {\n",
       "          for (let i = 0; i < inline_js.length; i++) {\n",
       "      inline_js[i].call(root, root.Bokeh);\n",
       "    }\n",
       "if (force === true) {\n",
       "        display_loaded();\n",
       "      }} else if (Date.now() < root._bokeh_timeout) {\n",
       "      setTimeout(run_inline_js, 100);\n",
       "    } else if (!root._bokeh_failed_load) {\n",
       "      console.log(\"Bokeh: BokehJS failed to load within specified timeout.\");\n",
       "      root._bokeh_failed_load = true;\n",
       "    } else if (force !== true) {\n",
       "      const cell = $(document.getElementById(\"3602\")).parents('.cell').data().cell;\n",
       "      cell.output_area.append_execute_result(NB_LOAD_WARNING)\n",
       "    }\n",
       "  }\n",
       "\n",
       "  if (root._bokeh_is_loading === 0) {\n",
       "    console.debug(\"Bokeh: BokehJS loaded, going straight to plotting\");\n",
       "    run_inline_js();\n",
       "  } else {\n",
       "    load_libs(css_urls, js_urls, function() {\n",
       "      console.debug(\"Bokeh: BokehJS plotting callback run at\", now());\n",
       "      run_inline_js();\n",
       "    });\n",
       "  }\n",
       "}(window));"
      ],
      "application/vnd.bokehjs_load.v0+json": "(function(root) {\n  function now() {\n    return new Date();\n  }\n\n  const force = true;\n\n  if (typeof root._bokeh_onload_callbacks === \"undefined\" || force === true) {\n    root._bokeh_onload_callbacks = [];\n    root._bokeh_is_loading = undefined;\n  }\n\n\n  if (typeof (root._bokeh_timeout) === \"undefined\" || force === true) {\n    root._bokeh_timeout = Date.now() + 5000;\n    root._bokeh_failed_load = false;\n  }\n\n  const NB_LOAD_WARNING = {'data': {'text/html':\n     \"<div style='background-color: #fdd'>\\n\"+\n     \"<p>\\n\"+\n     \"BokehJS does not appear to have successfully loaded. If loading BokehJS from CDN, this \\n\"+\n     \"may be due to a slow or bad network connection. Possible fixes:\\n\"+\n     \"</p>\\n\"+\n     \"<ul>\\n\"+\n     \"<li>re-rerun `output_notebook()` to attempt to load from CDN again, or</li>\\n\"+\n     \"<li>use INLINE resources instead, as so:</li>\\n\"+\n     \"</ul>\\n\"+\n     \"<code>\\n\"+\n     \"from bokeh.resources import INLINE\\n\"+\n     \"output_notebook(resources=INLINE)\\n\"+\n     \"</code>\\n\"+\n     \"</div>\"}};\n\n  function display_loaded() {\n    const el = document.getElementById(\"3602\");\n    if (el != null) {\n      el.textContent = \"BokehJS is loading...\";\n    }\n    if (root.Bokeh !== undefined) {\n      if (el != null) {\n        el.textContent = \"BokehJS \" + root.Bokeh.version + \" successfully loaded.\";\n      }\n    } else if (Date.now() < root._bokeh_timeout) {\n      setTimeout(display_loaded, 100)\n    }\n  }\n\n  function run_callbacks() {\n    try {\n      root._bokeh_onload_callbacks.forEach(function(callback) {\n        if (callback != null)\n          callback();\n      });\n    } finally {\n      delete root._bokeh_onload_callbacks\n    }\n    console.debug(\"Bokeh: all callbacks have finished\");\n  }\n\n  function load_libs(css_urls, js_urls, callback) {\n    if (css_urls == null) css_urls = [];\n    if (js_urls == null) js_urls = [];\n\n    root._bokeh_onload_callbacks.push(callback);\n    if (root._bokeh_is_loading > 0) {\n      console.debug(\"Bokeh: BokehJS is being loaded, scheduling callback at\", now());\n      return null;\n    }\n    if (js_urls == null || js_urls.length === 0) {\n      run_callbacks();\n      return null;\n    }\n    console.debug(\"Bokeh: BokehJS not loaded, scheduling load and callback at\", now());\n    root._bokeh_is_loading = css_urls.length + js_urls.length;\n\n    function on_load() {\n      root._bokeh_is_loading--;\n      if (root._bokeh_is_loading === 0) {\n        console.debug(\"Bokeh: all BokehJS libraries/stylesheets loaded\");\n        run_callbacks()\n      }\n    }\n\n    function on_error(url) {\n      console.error(\"failed to load \" + url);\n    }\n\n    for (let i = 0; i < css_urls.length; i++) {\n      const url = css_urls[i];\n      const element = document.createElement(\"link\");\n      element.onload = on_load;\n      element.onerror = on_error.bind(null, url);\n      element.rel = \"stylesheet\";\n      element.type = \"text/css\";\n      element.href = url;\n      console.debug(\"Bokeh: injecting link tag for BokehJS stylesheet: \", url);\n      document.body.appendChild(element);\n    }\n\n    for (let i = 0; i < js_urls.length; i++) {\n      const url = js_urls[i];\n      const element = document.createElement('script');\n      element.onload = on_load;\n      element.onerror = on_error.bind(null, url);\n      element.async = false;\n      element.src = url;\n      console.debug(\"Bokeh: injecting script tag for BokehJS library: \", url);\n      document.head.appendChild(element);\n    }\n  };\n\n  function inject_raw_css(css) {\n    const element = document.createElement(\"style\");\n    element.appendChild(document.createTextNode(css));\n    document.body.appendChild(element);\n  }\n\n  const js_urls = [\"https://cdn.bokeh.org/bokeh/release/bokeh-2.4.3.min.js\", \"https://cdn.bokeh.org/bokeh/release/bokeh-gl-2.4.3.min.js\", \"https://cdn.bokeh.org/bokeh/release/bokeh-widgets-2.4.3.min.js\", \"https://cdn.bokeh.org/bokeh/release/bokeh-tables-2.4.3.min.js\", \"https://cdn.bokeh.org/bokeh/release/bokeh-mathjax-2.4.3.min.js\"];\n  const css_urls = [];\n\n  const inline_js = [    function(Bokeh) {\n      Bokeh.set_log_level(\"info\");\n    },\nfunction(Bokeh) {\n    }\n  ];\n\n  function run_inline_js() {\n    if (root.Bokeh !== undefined || force === true) {\n          for (let i = 0; i < inline_js.length; i++) {\n      inline_js[i].call(root, root.Bokeh);\n    }\nif (force === true) {\n        display_loaded();\n      }} else if (Date.now() < root._bokeh_timeout) {\n      setTimeout(run_inline_js, 100);\n    } else if (!root._bokeh_failed_load) {\n      console.log(\"Bokeh: BokehJS failed to load within specified timeout.\");\n      root._bokeh_failed_load = true;\n    } else if (force !== true) {\n      const cell = $(document.getElementById(\"3602\")).parents('.cell').data().cell;\n      cell.output_area.append_execute_result(NB_LOAD_WARNING)\n    }\n  }\n\n  if (root._bokeh_is_loading === 0) {\n    console.debug(\"Bokeh: BokehJS loaded, going straight to plotting\");\n    run_inline_js();\n  } else {\n    load_libs(css_urls, js_urls, function() {\n      console.debug(\"Bokeh: BokehJS plotting callback run at\", now());\n      run_inline_js();\n    });\n  }\n}(window));"
     },
     "metadata": {},
     "output_type": "display_data"
    },
    {
     "data": {
      "text/html": [
       "\n",
       "  <div class=\"bk-root\" id=\"fb44ddb5-d085-423d-ac15-fe583a7dd8c3\" data-root-id=\"3603\"></div>\n"
      ]
     },
     "metadata": {},
     "output_type": "display_data"
    },
    {
     "data": {
      "application/javascript": [
       "(function(root) {\n",
       "  function embed_document(root) {\n",
       "  const docs_json = {\"76836886-e341-422a-8fbc-244d8eaf6974\":{\"defs\":[],\"roots\":{\"references\":[{\"attributes\":{\"below\":[{\"id\":\"3612\"}],\"center\":[{\"id\":\"3615\"},{\"id\":\"3619\"},{\"id\":\"3652\"},{\"id\":\"3659\"},{\"id\":\"3660\"},{\"id\":\"3661\"},{\"id\":\"3662\"},{\"id\":\"3663\"},{\"id\":\"3664\"},{\"id\":\"3665\"},{\"id\":\"3666\"},{\"id\":\"3667\"},{\"id\":\"3668\"},{\"id\":\"3669\"},{\"id\":\"3670\"},{\"id\":\"3671\"},{\"id\":\"3672\"},{\"id\":\"3673\"},{\"id\":\"3674\"},{\"id\":\"3675\"},{\"id\":\"3676\"},{\"id\":\"3677\"},{\"id\":\"3678\"},{\"id\":\"3679\"},{\"id\":\"3680\"},{\"id\":\"3681\"},{\"id\":\"3684\"},{\"id\":\"3685\"},{\"id\":\"3686\"},{\"id\":\"3687\"},{\"id\":\"3688\"},{\"id\":\"3689\"},{\"id\":\"3690\"},{\"id\":\"3691\"},{\"id\":\"3692\"},{\"id\":\"3693\"}],\"height\":400,\"left\":[{\"id\":\"3616\"}],\"renderers\":[{\"id\":\"3639\"},{\"id\":\"3699\"},{\"id\":\"3720\"},{\"id\":\"3743\"}],\"right\":[{\"id\":\"3652\"}],\"title\":{\"id\":\"3641\"},\"toolbar\":{\"id\":\"3627\"},\"width\":800,\"x_range\":{\"id\":\"3604\"},\"x_scale\":{\"id\":\"3608\"},\"y_range\":{\"id\":\"3606\"},\"y_scale\":{\"id\":\"3610\"}},\"id\":\"3603\",\"subtype\":\"Figure\",\"type\":\"Plot\"},{\"attributes\":{\"fill_alpha\":{\"value\":0.2},\"fill_color\":{\"value\":\"#70CE56\"},\"hatch_alpha\":{\"value\":0.2},\"line_alpha\":{\"value\":0.2},\"line_color\":{\"value\":\"#70CE56\"},\"size\":{\"value\":10},\"x\":{\"field\":\"x\"},\"y\":{\"field\":\"y\"}},\"id\":\"3719\",\"type\":\"Circle\"},{\"attributes\":{},\"id\":\"3623\",\"type\":\"SaveTool\"},{\"attributes\":{},\"id\":\"3620\",\"type\":\"PanTool\"},{\"attributes\":{},\"id\":\"3649\",\"type\":\"UnionRenderers\"},{\"attributes\":{\"axis\":{\"id\":\"3612\"},\"coordinates\":null,\"grid_line_color\":null,\"group\":null,\"ticker\":null},\"id\":\"3615\",\"type\":\"Grid\"},{\"attributes\":{\"axis_label\":\"Instrument\",\"coordinates\":null,\"formatter\":{\"id\":\"3644\"},\"group\":null,\"major_label_overrides\":{\"0\":\"KICK\",\"1\":\"SNARE\",\"2\":\"HH_CLOSED\",\"3\":\"HH_OPEN\",\"4\":\"TOM_3_LO\",\"5\":\"TOM_2_MID\",\"6\":\"TOM_1_HI\",\"7\":\"CRASH\",\"8\":\"RIDE\"},\"major_label_policy\":{\"id\":\"3645\"},\"ticker\":{\"id\":\"3657\"}},\"id\":\"3616\",\"type\":\"LinearAxis\"},{\"attributes\":{\"axis\":{\"id\":\"3616\"},\"coordinates\":null,\"dimension\":1,\"grid_line_color\":null,\"group\":null,\"ticker\":null},\"id\":\"3619\",\"type\":\"Grid\"},{\"attributes\":{\"coordinates\":null,\"dimension\":\"height\",\"group\":null,\"line_width\":0.5,\"location\":1.714},\"id\":\"3688\",\"type\":\"Span\"},{\"attributes\":{},\"id\":\"3621\",\"type\":\"WheelZoomTool\"},{\"attributes\":{\"end\":10.75,\"start\":-0.5},\"id\":\"3606\",\"type\":\"Range1d\"},{\"attributes\":{},\"id\":\"3625\",\"type\":\"HelpTool\"},{\"attributes\":{},\"id\":\"3650\",\"type\":\"Selection\"},{\"attributes\":{\"overlay\":{\"id\":\"3626\"}},\"id\":\"3622\",\"type\":\"BoxZoomTool\"},{\"attributes\":{},\"id\":\"3624\",\"type\":\"ResetTool\"},{\"attributes\":{\"fill_alpha\":{\"value\":0.1},\"fill_color\":{\"value\":\"#440154\"},\"hatch_alpha\":{\"value\":0.1},\"line_alpha\":{\"value\":0.1},\"line_color\":{\"value\":\"#440154\"},\"size\":{\"value\":10},\"x\":{\"field\":\"x\"},\"y\":{\"field\":\"y\"}},\"id\":\"3697\",\"type\":\"Circle\"},{\"attributes\":{\"coordinates\":null,\"data_source\":{\"id\":\"3694\"},\"glyph\":{\"id\":\"3696\"},\"group\":null,\"hover_glyph\":null,\"muted_glyph\":{\"id\":\"3698\"},\"nonselection_glyph\":{\"id\":\"3697\"},\"view\":{\"id\":\"3700\"}},\"id\":\"3699\",\"type\":\"GlyphRenderer\"},{\"attributes\":{\"fill_alpha\":{\"value\":0.2},\"fill_color\":{\"value\":\"#440154\"},\"hatch_alpha\":{\"value\":0.2},\"line_alpha\":{\"value\":0.2},\"line_color\":{\"value\":\"#440154\"},\"size\":{\"value\":10},\"x\":{\"field\":\"x\"},\"y\":{\"field\":\"y\"}},\"id\":\"3698\",\"type\":\"Circle\"},{\"attributes\":{\"source\":{\"id\":\"3694\"}},\"id\":\"3700\",\"type\":\"CDSView\"},{\"attributes\":{\"coordinates\":null,\"group\":null,\"text\":\"temp.html\"},\"id\":\"3641\",\"type\":\"Title\"},{\"attributes\":{\"label\":{\"value\":\"Tempo\"},\"renderers\":[{\"id\":\"3699\"}]},\"id\":\"3712\",\"type\":\"LegendItem\"},{\"attributes\":{\"callback\":null,\"renderers\":[{\"id\":\"3699\"}],\"tooltips\":[[\"tempo\",\"@tempo\"],[\"grid_index\",\"@grid_index\"]]},\"id\":\"3713\",\"type\":\"HoverTool\"},{\"attributes\":{\"bottom\":{\"field\":\"bottom\"},\"fill_alpha\":{\"value\":0.1},\"fill_color\":{\"value\":\"grey\"},\"hatch_alpha\":{\"value\":0.1},\"left\":{\"field\":\"start\"},\"line_alpha\":{\"value\":0.1},\"line_color\":{\"value\":\"grey\"},\"right\":{\"field\":\"end\"},\"top\":{\"field\":\"top\"}},\"id\":\"3637\",\"type\":\"Quad\"},{\"attributes\":{\"bottom_units\":\"screen\",\"coordinates\":null,\"fill_alpha\":0.5,\"fill_color\":\"lightgrey\",\"group\":null,\"left_units\":\"screen\",\"level\":\"overlay\",\"line_alpha\":1.0,\"line_color\":\"black\",\"line_dash\":[4,4],\"line_width\":2,\"right_units\":\"screen\",\"syncable\":false,\"top_units\":\"screen\"},\"id\":\"3626\",\"type\":\"BoxAnnotation\"},{\"attributes\":{\"bottom\":{\"field\":\"bottom\"},\"fill_alpha\":{\"field\":\"velocity\"},\"fill_color\":{\"value\":\"grey\"},\"left\":{\"field\":\"start\"},\"line_color\":{\"value\":\"grey\"},\"right\":{\"field\":\"end\"},\"top\":{\"field\":\"top\"}},\"id\":\"3636\",\"type\":\"Quad\"},{\"attributes\":{\"tools\":[{\"id\":\"3620\"},{\"id\":\"3621\"},{\"id\":\"3622\"},{\"id\":\"3623\"},{\"id\":\"3624\"},{\"id\":\"3625\"},{\"id\":\"3654\"},{\"id\":\"3713\"},{\"id\":\"3736\"},{\"id\":\"3761\"}]},\"id\":\"3627\",\"type\":\"Toolbar\"},{\"attributes\":{},\"id\":\"3644\",\"type\":\"BasicTickFormatter\"},{\"attributes\":{\"source\":{\"id\":\"3634\"}},\"id\":\"3640\",\"type\":\"CDSView\"},{\"attributes\":{},\"id\":\"3710\",\"type\":\"Selection\"},{\"attributes\":{\"bottom\":{\"field\":\"bottom\"},\"fill_alpha\":{\"value\":0.2},\"fill_color\":{\"value\":\"grey\"},\"hatch_alpha\":{\"value\":0.2},\"left\":{\"field\":\"start\"},\"line_alpha\":{\"value\":0.2},\"line_color\":{\"value\":\"grey\"},\"right\":{\"field\":\"end\"},\"top\":{\"field\":\"top\"}},\"id\":\"3638\",\"type\":\"Quad\"},{\"attributes\":{\"coordinates\":null,\"data_source\":{\"id\":\"3634\"},\"glyph\":{\"id\":\"3636\"},\"group\":null,\"hover_glyph\":null,\"muted_glyph\":{\"id\":\"3638\"},\"nonselection_glyph\":{\"id\":\"3637\"},\"view\":{\"id\":\"3640\"}},\"id\":\"3639\",\"type\":\"GlyphRenderer\"},{\"attributes\":{},\"id\":\"3709\",\"type\":\"UnionRenderers\"},{\"attributes\":{\"click_policy\":\"hide\",\"coordinates\":null,\"group\":null,\"items\":[{\"id\":\"3653\"},{\"id\":\"3712\"},{\"id\":\"3735\"},{\"id\":\"3760\"}]},\"id\":\"3652\",\"type\":\"Legend\"},{\"attributes\":{\"label\":{\"value\":\"Piano Roll\"},\"renderers\":[{\"id\":\"3639\"}]},\"id\":\"3653\",\"type\":\"LegendItem\"},{\"attributes\":{\"data\":{\"gmd_id\":[\"drummer1-session1-202_2bar_segment_10\"],\"style\":[\"rock\"],\"x\":[0.0],\"y\":[8.5]},\"selected\":{\"id\":\"3758\"},\"selection_policy\":{\"id\":\"3757\"}},\"id\":\"3738\",\"type\":\"ColumnDataSource\"},{\"attributes\":{\"fill_color\":{\"value\":\"#1EA087\"},\"line_color\":{\"value\":\"#1EA087\"},\"size\":{\"value\":10},\"x\":{\"field\":\"x\"},\"y\":{\"field\":\"y\"}},\"id\":\"3740\",\"type\":\"Circle\"},{\"attributes\":{},\"id\":\"3608\",\"type\":\"LinearScale\"},{\"attributes\":{\"fill_alpha\":{\"value\":0.1},\"fill_color\":{\"value\":\"#1EA087\"},\"hatch_alpha\":{\"value\":0.1},\"line_alpha\":{\"value\":0.1},\"line_color\":{\"value\":\"#1EA087\"},\"size\":{\"value\":10},\"x\":{\"field\":\"x\"},\"y\":{\"field\":\"y\"}},\"id\":\"3741\",\"type\":\"Circle\"},{\"attributes\":{\"end\":3.5354,\"start\":-0.3214},\"id\":\"3604\",\"type\":\"DataRange1d\"},{\"attributes\":{\"coordinates\":null,\"dimension\":\"height\",\"group\":null,\"line_width\":0.1,\"location\":0.643},\"id\":\"3663\",\"type\":\"Span\"},{\"attributes\":{\"callback\":null,\"renderers\":[{\"id\":\"3639\"}],\"tooltips\":[[\"start\",\"@start\"],[\"end\",\"@end\"],[\"instrument\",\"@instrument\"],[\"voice_index\",\"@voice_index\"],[\"midi\",\"@midi\"],[\"velocity\",\"@velocity\"],[\"offset\",\"@offset\"],[\"offset_sec\",\"@offset_sec\"],[\"grid_line\",\"@grid_line\"]]},\"id\":\"3654\",\"type\":\"HoverTool\"},{\"attributes\":{\"ticks\":[0,1,2,3,4,5,6,7,8]},\"id\":\"3657\",\"type\":\"FixedTicker\"},{\"attributes\":{\"fill_alpha\":{\"value\":0.2},\"fill_color\":{\"value\":\"#1EA087\"},\"hatch_alpha\":{\"value\":0.2},\"line_alpha\":{\"value\":0.2},\"line_color\":{\"value\":\"#1EA087\"},\"size\":{\"value\":10},\"x\":{\"field\":\"x\"},\"y\":{\"field\":\"y\"}},\"id\":\"3742\",\"type\":\"Circle\"},{\"attributes\":{\"coordinates\":null,\"dimension\":\"height\",\"group\":null,\"line_width\":0.5,\"location\":3.0},\"id\":\"3691\",\"type\":\"Span\"},{\"attributes\":{\"fill_color\":{\"value\":\"#440154\"},\"line_color\":{\"value\":\"#440154\"},\"size\":{\"value\":10},\"x\":{\"field\":\"x\"},\"y\":{\"field\":\"y\"}},\"id\":\"3696\",\"type\":\"Circle\"},{\"attributes\":{\"ticks\":[0.0,0.43,0.86,1.29,1.71,2.14,2.57,3.0]},\"id\":\"3682\",\"type\":\"FixedTicker\"},{\"attributes\":{\"coordinates\":null,\"dimension\":\"height\",\"group\":null,\"line_width\":0.1,\"location\":0.107},\"id\":\"3659\",\"type\":\"Span\"},{\"attributes\":{},\"id\":\"3610\",\"type\":\"LinearScale\"},{\"attributes\":{\"coordinates\":null,\"dimension\":\"height\",\"group\":null,\"line_width\":0.1,\"location\":0.536},\"id\":\"3662\",\"type\":\"Span\"},{\"attributes\":{},\"id\":\"3648\",\"type\":\"AllLabels\"},{\"attributes\":{\"data\":{\"bottom\":{\"__ndarray__\":\"zczMzMzM/D9mZmZmZmYGQJqZmZmZmek/zczMzMzM/D/NzMzMzMz8P83MzMzMzPw/mpmZmZmZyb/NzMzMzMz8P5qZmZmZmcm/zczMzMzM/D/NzMzMzMz8P83MzMzMzPw/zczMzMzM/D+amZmZmZnpP83MzMzMzPw/zczMzMzM/D/NzMzMzMz8P5qZmZmZmcm/zczMzMzM/D8=\",\"dtype\":\"float64\",\"order\":\"little\",\"shape\":[19]},\"end\":[0.24631399999999987,0.45711999999999986,0.9115699999999999,0.9079319999999999,1.1383029999999998,1.33032,1.543656,1.528462,1.7222389999999999,1.750808,1.9472599999999998,2.1669079999999994,2.399907,2.612432,2.6303149999999995,2.8258039999999998,3.041837,3.2240580000000003,3.256158],\"grid_line\":[2,4,8,8,10,12,14,14,16,16,18,20,22,24,24,26,28,30,30],\"instrument\":[\"HH_CLOSED\",\"HH_OPEN\",\"SNARE\",\"HH_CLOSED\",\"HH_CLOSED\",\"HH_CLOSED\",\"KICK\",\"HH_CLOSED\",\"KICK\",\"HH_CLOSED\",\"HH_CLOSED\",\"HH_CLOSED\",\"HH_CLOSED\",\"SNARE\",\"HH_CLOSED\",\"HH_CLOSED\",\"HH_CLOSED\",\"KICK\",\"HH_CLOSED\"],\"midi\":[42,46,38,42,42,42,36,42,36,42,42,42,42,38,42,42,42,36,42],\"offset\":[-0.198,-0.235,0.01,-0.024,0.129,-0.085,-0.092,-0.234,-0.423,-0.156,-0.32,-0.274,-0.099,-0.121,0.045,-0.128,-0.109,-0.406,-0.106],\"offset_sec\":[-0.021,-0.025,0.001,-0.003,0.014,-0.009,-0.01,-0.025,-0.045,-0.017,-0.034,-0.03,-0.011,-0.013,0.005,-0.014,-0.012,-0.043,-0.011],\"start\":[0.19281399999999999,0.40362,0.85807,0.854432,1.084803,1.27682,1.490156,1.474962,1.668739,1.697308,1.8937599999999999,2.1134079999999997,2.346407,2.558932,2.576815,2.772304,2.988337,3.170558,3.202658],\"top\":{\"__ndarray__\":\"mpmZmZmZAUCamZmZmZkJQDMzMzMzM/M/mpmZmZmZAUCamZmZmZkBQJqZmZmZmQFAmpmZmZmZyT+amZmZmZkBQJqZmZmZmck/mpmZmZmZAUCamZmZmZkBQJqZmZmZmQFAmpmZmZmZAUAzMzMzMzPzP5qZmZmZmQFAmpmZmZmZAUCamZmZmZkBQJqZmZmZmck/mpmZmZmZAUA=\",\"dtype\":\"float64\",\"order\":\"little\",\"shape\":[19]},\"velocity\":[0.283,0.85,1.0,0.512,0.299,0.992,0.331,0.22,0.449,0.756,0.307,0.961,0.197,1.0,0.528,0.315,0.969,0.417,0.339],\"voice_index\":[2,3,1,2,2,2,0,2,0,2,2,2,2,1,2,2,2,0,2]},\"selected\":{\"id\":\"3650\"},\"selection_policy\":{\"id\":\"3649\"}},\"id\":\"3634\",\"type\":\"ColumnDataSource\"},{\"attributes\":{\"callback\":null,\"renderers\":[{\"id\":\"3743\"}],\"tooltips\":[[\"gmd_id\",\"@gmd_id\"],[\"style\",\"@style\"]]},\"id\":\"3761\",\"type\":\"HoverTool\"},{\"attributes\":{\"coordinates\":null,\"dimension\":\"height\",\"group\":null,\"line_width\":2,\"location\":1.714},\"id\":\"3693\",\"type\":\"Span\"},{\"attributes\":{\"axis_label\":\"Time (sec)\",\"coordinates\":null,\"formatter\":{\"id\":\"3647\"},\"group\":null,\"major_label_orientation\":1.57,\"major_label_policy\":{\"id\":\"3648\"},\"ticker\":{\"id\":\"3682\"}},\"id\":\"3612\",\"type\":\"LinearAxis\"},{\"attributes\":{\"coordinates\":null,\"dimension\":\"height\",\"group\":null,\"line_width\":0.1,\"location\":0.214},\"id\":\"3660\",\"type\":\"Span\"},{\"attributes\":{\"coordinates\":null,\"dimension\":\"height\",\"group\":null,\"line_width\":0.1,\"location\":0.321},\"id\":\"3661\",\"type\":\"Span\"},{\"attributes\":{\"coordinates\":null,\"dimension\":\"height\",\"group\":null,\"line_width\":2,\"location\":0.0},\"id\":\"3692\",\"type\":\"Span\"},{\"attributes\":{\"coordinates\":null,\"dimension\":\"height\",\"group\":null,\"line_width\":0.1,\"location\":0.75},\"id\":\"3664\",\"type\":\"Span\"},{\"attributes\":{\"coordinates\":null,\"dimension\":\"height\",\"group\":null,\"line_width\":0.1,\"location\":0.964},\"id\":\"3665\",\"type\":\"Span\"},{\"attributes\":{\"coordinates\":null,\"dimension\":\"height\",\"group\":null,\"line_width\":0.1,\"location\":1.071},\"id\":\"3666\",\"type\":\"Span\"},{\"attributes\":{\"coordinates\":null,\"dimension\":\"height\",\"group\":null,\"line_width\":0.1,\"location\":1.178},\"id\":\"3667\",\"type\":\"Span\"},{\"attributes\":{},\"id\":\"3647\",\"type\":\"BasicTickFormatter\"},{\"attributes\":{\"coordinates\":null,\"dimension\":\"height\",\"group\":null,\"line_width\":0.1,\"location\":1.393},\"id\":\"3668\",\"type\":\"Span\"},{\"attributes\":{\"coordinates\":null,\"dimension\":\"height\",\"group\":null,\"line_width\":0.1,\"location\":1.5},\"id\":\"3669\",\"type\":\"Span\"},{\"attributes\":{\"source\":{\"id\":\"3738\"}},\"id\":\"3744\",\"type\":\"CDSView\"},{\"attributes\":{\"coordinates\":null,\"dimension\":\"height\",\"group\":null,\"line_width\":0.1,\"location\":1.607},\"id\":\"3670\",\"type\":\"Span\"},{\"attributes\":{},\"id\":\"3758\",\"type\":\"Selection\"},{\"attributes\":{\"coordinates\":null,\"data_source\":{\"id\":\"3715\"},\"glyph\":{\"id\":\"3717\"},\"group\":null,\"hover_glyph\":null,\"muted_glyph\":{\"id\":\"3719\"},\"nonselection_glyph\":{\"id\":\"3718\"},\"view\":{\"id\":\"3721\"}},\"id\":\"3720\",\"type\":\"GlyphRenderer\"},{\"attributes\":{\"coordinates\":null,\"dimension\":\"height\",\"group\":null,\"line_width\":0.1,\"location\":1.821},\"id\":\"3671\",\"type\":\"Span\"},{\"attributes\":{\"coordinates\":null,\"data_source\":{\"id\":\"3738\"},\"glyph\":{\"id\":\"3740\"},\"group\":null,\"hover_glyph\":null,\"muted_glyph\":{\"id\":\"3742\"},\"nonselection_glyph\":{\"id\":\"3741\"},\"view\":{\"id\":\"3744\"}},\"id\":\"3743\",\"type\":\"GlyphRenderer\"},{\"attributes\":{\"coordinates\":null,\"dimension\":\"height\",\"group\":null,\"line_width\":0.1,\"location\":1.928},\"id\":\"3672\",\"type\":\"Span\"},{\"attributes\":{\"coordinates\":null,\"dimension\":\"height\",\"group\":null,\"line_width\":0.1,\"location\":2.035},\"id\":\"3673\",\"type\":\"Span\"},{\"attributes\":{\"coordinates\":null,\"dimension\":\"height\",\"group\":null,\"line_width\":0.1,\"location\":2.25},\"id\":\"3674\",\"type\":\"Span\"},{\"attributes\":{\"data\":{\"grid_index\":[0],\"tempo\":[140.00014000014],\"x\":[0.0],\"y\":[9.5]},\"selected\":{\"id\":\"3710\"},\"selection_policy\":{\"id\":\"3709\"}},\"id\":\"3694\",\"type\":\"ColumnDataSource\"},{\"attributes\":{\"coordinates\":null,\"dimension\":\"height\",\"group\":null,\"line_width\":0.1,\"location\":2.357},\"id\":\"3675\",\"type\":\"Span\"},{\"attributes\":{\"fill_color\":{\"value\":\"#70CE56\"},\"line_color\":{\"value\":\"#70CE56\"},\"size\":{\"value\":10},\"x\":{\"field\":\"x\"},\"y\":{\"field\":\"y\"}},\"id\":\"3717\",\"type\":\"Circle\"},{\"attributes\":{\"coordinates\":null,\"dimension\":\"height\",\"group\":null,\"line_width\":0.1,\"location\":2.464},\"id\":\"3676\",\"type\":\"Span\"},{\"attributes\":{},\"id\":\"3645\",\"type\":\"AllLabels\"},{\"attributes\":{\"coordinates\":null,\"dimension\":\"height\",\"group\":null,\"line_width\":0.1,\"location\":2.679},\"id\":\"3677\",\"type\":\"Span\"},{\"attributes\":{\"data\":{\"Denominator\":[4],\"Numerator\":[4],\"grid_index\":[0],\"x\":[0.0],\"y\":[9]},\"selected\":{\"id\":\"3733\"},\"selection_policy\":{\"id\":\"3732\"}},\"id\":\"3715\",\"type\":\"ColumnDataSource\"},{\"attributes\":{\"label\":{\"value\":\"Metadata\"},\"renderers\":[{\"id\":\"3743\"}]},\"id\":\"3760\",\"type\":\"LegendItem\"},{\"attributes\":{\"coordinates\":null,\"dimension\":\"height\",\"group\":null,\"line_width\":0.1,\"location\":2.786},\"id\":\"3678\",\"type\":\"Span\"},{\"attributes\":{\"fill_alpha\":{\"value\":0.1},\"fill_color\":{\"value\":\"#70CE56\"},\"hatch_alpha\":{\"value\":0.1},\"line_alpha\":{\"value\":0.1},\"line_color\":{\"value\":\"#70CE56\"},\"size\":{\"value\":10},\"x\":{\"field\":\"x\"},\"y\":{\"field\":\"y\"}},\"id\":\"3718\",\"type\":\"Circle\"},{\"attributes\":{\"coordinates\":null,\"dimension\":\"height\",\"group\":null,\"line_width\":0.1,\"location\":2.893},\"id\":\"3679\",\"type\":\"Span\"},{\"attributes\":{\"coordinates\":null,\"dimension\":\"height\",\"group\":null,\"line_width\":0.1,\"location\":3.107},\"id\":\"3680\",\"type\":\"Span\"},{\"attributes\":{\"coordinates\":null,\"dimension\":\"height\",\"group\":null,\"line_width\":0.1,\"location\":3.214},\"id\":\"3681\",\"type\":\"Span\"},{\"attributes\":{},\"id\":\"3733\",\"type\":\"Selection\"},{\"attributes\":{\"coordinates\":null,\"dimension\":\"height\",\"group\":null,\"line_width\":0.5,\"location\":0.0},\"id\":\"3684\",\"type\":\"Span\"},{\"attributes\":{},\"id\":\"3757\",\"type\":\"UnionRenderers\"},{\"attributes\":{\"coordinates\":null,\"dimension\":\"height\",\"group\":null,\"line_width\":0.5,\"location\":0.429},\"id\":\"3685\",\"type\":\"Span\"},{\"attributes\":{},\"id\":\"3732\",\"type\":\"UnionRenderers\"},{\"attributes\":{\"coordinates\":null,\"dimension\":\"height\",\"group\":null,\"line_width\":0.5,\"location\":0.857},\"id\":\"3686\",\"type\":\"Span\"},{\"attributes\":{\"callback\":null,\"renderers\":[{\"id\":\"3720\"}],\"tooltips\":[[\"Numerator\",\"@Numerator\"],[\"Denominator\",\"@Denominator\"],[\"grid_index\",\"@grid_index\"]]},\"id\":\"3736\",\"type\":\"HoverTool\"},{\"attributes\":{\"coordinates\":null,\"dimension\":\"height\",\"group\":null,\"line_width\":0.5,\"location\":1.286},\"id\":\"3687\",\"type\":\"Span\"},{\"attributes\":{\"label\":{\"value\":\"Time Signature\"},\"renderers\":[{\"id\":\"3720\"}]},\"id\":\"3735\",\"type\":\"LegendItem\"},{\"attributes\":{\"source\":{\"id\":\"3715\"}},\"id\":\"3721\",\"type\":\"CDSView\"},{\"attributes\":{\"coordinates\":null,\"dimension\":\"height\",\"group\":null,\"line_width\":0.5,\"location\":2.143},\"id\":\"3689\",\"type\":\"Span\"},{\"attributes\":{\"coordinates\":null,\"dimension\":\"height\",\"group\":null,\"line_width\":0.5,\"location\":2.572},\"id\":\"3690\",\"type\":\"Span\"}],\"root_ids\":[\"3603\"]},\"title\":\"Bokeh Application\",\"version\":\"2.4.3\"}};\n",
       "  const render_items = [{\"docid\":\"76836886-e341-422a-8fbc-244d8eaf6974\",\"root_ids\":[\"3603\"],\"roots\":{\"3603\":\"fb44ddb5-d085-423d-ac15-fe583a7dd8c3\"}}];\n",
       "  root.Bokeh.embed.embed_items_notebook(docs_json, render_items);\n",
       "  }\n",
       "  if (root.Bokeh !== undefined) {\n",
       "    embed_document(root);\n",
       "  } else {\n",
       "    let attempts = 0;\n",
       "    const timer = setInterval(function(root) {\n",
       "      if (root.Bokeh !== undefined) {\n",
       "        clearInterval(timer);\n",
       "        embed_document(root);\n",
       "      } else {\n",
       "        attempts++;\n",
       "        if (attempts > 100) {\n",
       "          clearInterval(timer);\n",
       "          console.log(\"Bokeh: ERROR: Unable to run BokehJS code because BokehJS library is missing\");\n",
       "        }\n",
       "      }\n",
       "    }, 10, root)\n",
       "  }\n",
       "})(window);"
      ],
      "application/vnd.bokehjs_exec.v0+json": ""
     },
     "metadata": {
      "application/vnd.bokehjs_exec.v0+json": {
       "id": "3603"
      }
     },
     "output_type": "display_data"
    },
    {
     "data": {
      "text/html": [
       "\n",
       "  <div class=\"bk-root\" id=\"e042b7d9-2ebe-41a3-a43b-c28ae7067ff4\" data-root-id=\"3853\"></div>\n"
      ]
     },
     "metadata": {},
     "output_type": "display_data"
    },
    {
     "data": {
      "application/javascript": [
       "(function(root) {\n",
       "  function embed_document(root) {\n",
       "  const docs_json = {\"06afdb06-e27e-464b-a67a-13b0c79532ed\":{\"defs\":[],\"roots\":{\"references\":[{\"attributes\":{\"below\":[{\"id\":\"3862\"}],\"center\":[{\"id\":\"3865\"},{\"id\":\"3869\"},{\"id\":\"3902\"},{\"id\":\"3909\"},{\"id\":\"3910\"},{\"id\":\"3911\"},{\"id\":\"3912\"},{\"id\":\"3913\"},{\"id\":\"3914\"},{\"id\":\"3915\"},{\"id\":\"3916\"},{\"id\":\"3917\"},{\"id\":\"3918\"},{\"id\":\"3919\"},{\"id\":\"3920\"},{\"id\":\"3921\"},{\"id\":\"3922\"},{\"id\":\"3923\"},{\"id\":\"3924\"},{\"id\":\"3925\"},{\"id\":\"3926\"},{\"id\":\"3927\"},{\"id\":\"3928\"},{\"id\":\"3929\"},{\"id\":\"3930\"},{\"id\":\"3931\"},{\"id\":\"3934\"},{\"id\":\"3935\"},{\"id\":\"3936\"},{\"id\":\"3937\"},{\"id\":\"3938\"},{\"id\":\"3939\"},{\"id\":\"3940\"},{\"id\":\"3941\"},{\"id\":\"3942\"},{\"id\":\"3943\"}],\"height\":400,\"left\":[{\"id\":\"3866\"}],\"renderers\":[{\"id\":\"3889\"},{\"id\":\"3949\"},{\"id\":\"3970\"},{\"id\":\"3993\"}],\"right\":[{\"id\":\"3902\"}],\"title\":{\"id\":\"3891\"},\"toolbar\":{\"id\":\"3877\"},\"width\":800,\"x_range\":{\"id\":\"3854\"},\"x_scale\":{\"id\":\"3858\"},\"y_range\":{\"id\":\"3856\"},\"y_scale\":{\"id\":\"3860\"}},\"id\":\"3853\",\"subtype\":\"Figure\",\"type\":\"Plot\"},{\"attributes\":{},\"id\":\"3860\",\"type\":\"LinearScale\"},{\"attributes\":{\"axis_label\":\"Instrument\",\"coordinates\":null,\"formatter\":{\"id\":\"3894\"},\"group\":null,\"major_label_overrides\":{\"0\":\"Left Hand\",\"1\":\"Right Hand\"},\"major_label_policy\":{\"id\":\"3895\"},\"ticker\":{\"id\":\"3907\"}},\"id\":\"3866\",\"type\":\"LinearAxis\"},{\"attributes\":{\"end\":3.75,\"start\":-0.5},\"id\":\"3856\",\"type\":\"Range1d\"},{\"attributes\":{\"end\":3.5354,\"start\":-0.3214},\"id\":\"3854\",\"type\":\"DataRange1d\"},{\"attributes\":{\"coordinates\":null,\"dimension\":\"height\",\"group\":null,\"line_width\":2,\"location\":1.714},\"id\":\"3943\",\"type\":\"Span\"},{\"attributes\":{},\"id\":\"3875\",\"type\":\"HelpTool\"},{\"attributes\":{\"fill_color\":{\"value\":\"#440154\"},\"line_color\":{\"value\":\"#440154\"},\"size\":{\"value\":10},\"x\":{\"field\":\"x\"},\"y\":{\"field\":\"y\"}},\"id\":\"3946\",\"type\":\"Circle\"},{\"attributes\":{},\"id\":\"3894\",\"type\":\"BasicTickFormatter\"},{\"attributes\":{\"coordinates\":null,\"dimension\":\"height\",\"group\":null,\"line_width\":2,\"location\":0.0},\"id\":\"3942\",\"type\":\"Span\"},{\"attributes\":{\"axis_label\":\"Time (sec)\",\"coordinates\":null,\"formatter\":{\"id\":\"3897\"},\"group\":null,\"major_label_orientation\":1.57,\"major_label_policy\":{\"id\":\"3898\"},\"ticker\":{\"id\":\"3932\"}},\"id\":\"3862\",\"type\":\"LinearAxis\"},{\"attributes\":{\"axis\":{\"id\":\"3862\"},\"coordinates\":null,\"grid_line_color\":null,\"group\":null,\"ticker\":null},\"id\":\"3865\",\"type\":\"Grid\"},{\"attributes\":{},\"id\":\"3895\",\"type\":\"AllLabels\"},{\"attributes\":{},\"id\":\"3858\",\"type\":\"LinearScale\"},{\"attributes\":{\"axis\":{\"id\":\"3866\"},\"coordinates\":null,\"dimension\":1,\"grid_line_color\":null,\"group\":null,\"ticker\":null},\"id\":\"3869\",\"type\":\"Grid\"},{\"attributes\":{},\"id\":\"3897\",\"type\":\"BasicTickFormatter\"},{\"attributes\":{},\"id\":\"3898\",\"type\":\"AllLabels\"},{\"attributes\":{},\"id\":\"3871\",\"type\":\"WheelZoomTool\"},{\"attributes\":{},\"id\":\"3870\",\"type\":\"PanTool\"},{\"attributes\":{\"overlay\":{\"id\":\"3876\"}},\"id\":\"3872\",\"type\":\"BoxZoomTool\"},{\"attributes\":{},\"id\":\"3900\",\"type\":\"Selection\"},{\"attributes\":{},\"id\":\"3873\",\"type\":\"SaveTool\"},{\"attributes\":{},\"id\":\"3874\",\"type\":\"ResetTool\"},{\"attributes\":{},\"id\":\"3899\",\"type\":\"UnionRenderers\"},{\"attributes\":{\"bottom_units\":\"screen\",\"coordinates\":null,\"fill_alpha\":0.5,\"fill_color\":\"lightgrey\",\"group\":null,\"left_units\":\"screen\",\"level\":\"overlay\",\"line_alpha\":1.0,\"line_color\":\"black\",\"line_dash\":[4,4],\"line_width\":2,\"right_units\":\"screen\",\"syncable\":false,\"top_units\":\"screen\"},\"id\":\"3876\",\"type\":\"BoxAnnotation\"},{\"attributes\":{\"coordinates\":null,\"group\":null,\"text\":\"temp.html\"},\"id\":\"3891\",\"type\":\"Title\"},{\"attributes\":{\"click_policy\":\"hide\",\"coordinates\":null,\"group\":null,\"items\":[{\"id\":\"3903\"},{\"id\":\"3962\"},{\"id\":\"3985\"},{\"id\":\"4010\"}]},\"id\":\"3902\",\"type\":\"Legend\"},{\"attributes\":{\"coordinates\":null,\"data_source\":{\"id\":\"3884\"},\"glyph\":{\"id\":\"3886\"},\"group\":null,\"hover_glyph\":null,\"muted_glyph\":{\"id\":\"3888\"},\"nonselection_glyph\":{\"id\":\"3887\"},\"view\":{\"id\":\"3890\"}},\"id\":\"3889\",\"type\":\"GlyphRenderer\"},{\"attributes\":{\"bottom\":{\"field\":\"bottom\"},\"fill_alpha\":{\"value\":0.2},\"fill_color\":{\"value\":\"grey\"},\"hatch_alpha\":{\"value\":0.2},\"left\":{\"field\":\"start\"},\"line_alpha\":{\"value\":0.2},\"line_color\":{\"value\":\"grey\"},\"right\":{\"field\":\"end\"},\"top\":{\"field\":\"top\"}},\"id\":\"3888\",\"type\":\"Quad\"},{\"attributes\":{\"callback\":null,\"renderers\":[{\"id\":\"3889\"}],\"tooltips\":[[\"start\",\"@start\"],[\"end\",\"@end\"],[\"instrument\",\"@instrument\"],[\"voice_index\",\"@voice_index\"],[\"midi\",\"@midi\"],[\"velocity\",\"@velocity\"],[\"offset\",\"@offset\"],[\"offset_sec\",\"@offset_sec\"],[\"grid_line\",\"@grid_line\"]]},\"id\":\"3904\",\"type\":\"HoverTool\"},{\"attributes\":{\"bottom\":{\"field\":\"bottom\"},\"fill_alpha\":{\"value\":0.1},\"fill_color\":{\"value\":\"grey\"},\"hatch_alpha\":{\"value\":0.1},\"left\":{\"field\":\"start\"},\"line_alpha\":{\"value\":0.1},\"line_color\":{\"value\":\"grey\"},\"right\":{\"field\":\"end\"},\"top\":{\"field\":\"top\"}},\"id\":\"3887\",\"type\":\"Quad\"},{\"attributes\":{\"tools\":[{\"id\":\"3870\"},{\"id\":\"3871\"},{\"id\":\"3872\"},{\"id\":\"3873\"},{\"id\":\"3874\"},{\"id\":\"3875\"},{\"id\":\"3904\"},{\"id\":\"3963\"},{\"id\":\"3986\"},{\"id\":\"4011\"}]},\"id\":\"3877\",\"type\":\"Toolbar\"},{\"attributes\":{\"source\":{\"id\":\"3884\"}},\"id\":\"3890\",\"type\":\"CDSView\"},{\"attributes\":{\"bottom\":{\"field\":\"bottom\"},\"fill_alpha\":{\"field\":\"velocity\"},\"fill_color\":{\"value\":\"grey\"},\"left\":{\"field\":\"start\"},\"line_color\":{\"value\":\"grey\"},\"right\":{\"field\":\"end\"},\"top\":{\"field\":\"top\"}},\"id\":\"3886\",\"type\":\"Quad\"},{\"attributes\":{\"label\":{\"value\":\"Piano Roll\"},\"renderers\":[{\"id\":\"3889\"}]},\"id\":\"3903\",\"type\":\"LegendItem\"},{\"attributes\":{\"fill_alpha\":{\"value\":0.2},\"fill_color\":{\"value\":\"#70CE56\"},\"hatch_alpha\":{\"value\":0.2},\"line_alpha\":{\"value\":0.2},\"line_color\":{\"value\":\"#70CE56\"},\"size\":{\"value\":10},\"x\":{\"field\":\"x\"},\"y\":{\"field\":\"y\"}},\"id\":\"3969\",\"type\":\"Circle\"},{\"attributes\":{},\"id\":\"3983\",\"type\":\"Selection\"},{\"attributes\":{\"coordinates\":null,\"data_source\":{\"id\":\"3965\"},\"glyph\":{\"id\":\"3967\"},\"group\":null,\"hover_glyph\":null,\"muted_glyph\":{\"id\":\"3969\"},\"nonselection_glyph\":{\"id\":\"3968\"},\"view\":{\"id\":\"3971\"}},\"id\":\"3970\",\"type\":\"GlyphRenderer\"},{\"attributes\":{\"ticks\":[0,1]},\"id\":\"3907\",\"type\":\"FixedTicker\"},{\"attributes\":{\"source\":{\"id\":\"3965\"}},\"id\":\"3971\",\"type\":\"CDSView\"},{\"attributes\":{\"fill_alpha\":{\"value\":0.1},\"fill_color\":{\"value\":\"#440154\"},\"hatch_alpha\":{\"value\":0.1},\"line_alpha\":{\"value\":0.1},\"line_color\":{\"value\":\"#440154\"},\"size\":{\"value\":10},\"x\":{\"field\":\"x\"},\"y\":{\"field\":\"y\"}},\"id\":\"3947\",\"type\":\"Circle\"},{\"attributes\":{\"coordinates\":null,\"dimension\":\"height\",\"group\":null,\"line_width\":0.1,\"location\":0.536},\"id\":\"3912\",\"type\":\"Span\"},{\"attributes\":{\"label\":{\"value\":\"Time Signature\"},\"renderers\":[{\"id\":\"3970\"}]},\"id\":\"3985\",\"type\":\"LegendItem\"},{\"attributes\":{\"ticks\":[0.0,0.43,0.86,1.29,1.71,2.14,2.57,3.0]},\"id\":\"3932\",\"type\":\"FixedTicker\"},{\"attributes\":{\"coordinates\":null,\"dimension\":\"height\",\"group\":null,\"line_width\":0.1,\"location\":0.107},\"id\":\"3909\",\"type\":\"Span\"},{\"attributes\":{},\"id\":\"3982\",\"type\":\"UnionRenderers\"},{\"attributes\":{\"coordinates\":null,\"dimension\":\"height\",\"group\":null,\"line_width\":0.1,\"location\":0.643},\"id\":\"3913\",\"type\":\"Span\"},{\"attributes\":{\"coordinates\":null,\"data_source\":{\"id\":\"3944\"},\"glyph\":{\"id\":\"3946\"},\"group\":null,\"hover_glyph\":null,\"muted_glyph\":{\"id\":\"3948\"},\"nonselection_glyph\":{\"id\":\"3947\"},\"view\":{\"id\":\"3950\"}},\"id\":\"3949\",\"type\":\"GlyphRenderer\"},{\"attributes\":{\"coordinates\":null,\"dimension\":\"height\",\"group\":null,\"line_width\":0.1,\"location\":0.214},\"id\":\"3910\",\"type\":\"Span\"},{\"attributes\":{\"coordinates\":null,\"dimension\":\"height\",\"group\":null,\"line_width\":0.1,\"location\":0.321},\"id\":\"3911\",\"type\":\"Span\"},{\"attributes\":{\"fill_alpha\":{\"value\":0.2},\"fill_color\":{\"value\":\"#440154\"},\"hatch_alpha\":{\"value\":0.2},\"line_alpha\":{\"value\":0.2},\"line_color\":{\"value\":\"#440154\"},\"size\":{\"value\":10},\"x\":{\"field\":\"x\"},\"y\":{\"field\":\"y\"}},\"id\":\"3948\",\"type\":\"Circle\"},{\"attributes\":{\"coordinates\":null,\"dimension\":\"height\",\"group\":null,\"line_width\":0.1,\"location\":0.75},\"id\":\"3914\",\"type\":\"Span\"},{\"attributes\":{\"coordinates\":null,\"dimension\":\"height\",\"group\":null,\"line_width\":0.1,\"location\":0.964},\"id\":\"3915\",\"type\":\"Span\"},{\"attributes\":{\"coordinates\":null,\"dimension\":\"height\",\"group\":null,\"line_width\":0.1,\"location\":1.071},\"id\":\"3916\",\"type\":\"Span\"},{\"attributes\":{\"coordinates\":null,\"dimension\":\"height\",\"group\":null,\"line_width\":0.1,\"location\":1.178},\"id\":\"3917\",\"type\":\"Span\"},{\"attributes\":{\"coordinates\":null,\"dimension\":\"height\",\"group\":null,\"line_width\":0.1,\"location\":1.393},\"id\":\"3918\",\"type\":\"Span\"},{\"attributes\":{\"coordinates\":null,\"dimension\":\"height\",\"group\":null,\"line_width\":0.1,\"location\":1.5},\"id\":\"3919\",\"type\":\"Span\"},{\"attributes\":{\"coordinates\":null,\"dimension\":\"height\",\"group\":null,\"line_width\":0.1,\"location\":1.607},\"id\":\"3920\",\"type\":\"Span\"},{\"attributes\":{\"coordinates\":null,\"dimension\":\"height\",\"group\":null,\"line_width\":0.1,\"location\":1.821},\"id\":\"3921\",\"type\":\"Span\"},{\"attributes\":{\"coordinates\":null,\"dimension\":\"height\",\"group\":null,\"line_width\":0.1,\"location\":1.928},\"id\":\"3922\",\"type\":\"Span\"},{\"attributes\":{\"coordinates\":null,\"dimension\":\"height\",\"group\":null,\"line_width\":0.1,\"location\":2.035},\"id\":\"3923\",\"type\":\"Span\"},{\"attributes\":{\"coordinates\":null,\"dimension\":\"height\",\"group\":null,\"line_width\":0.1,\"location\":2.25},\"id\":\"3924\",\"type\":\"Span\"},{\"attributes\":{\"coordinates\":null,\"dimension\":\"height\",\"group\":null,\"line_width\":0.1,\"location\":2.357},\"id\":\"3925\",\"type\":\"Span\"},{\"attributes\":{\"coordinates\":null,\"dimension\":\"height\",\"group\":null,\"line_width\":0.1,\"location\":2.464},\"id\":\"3926\",\"type\":\"Span\"},{\"attributes\":{\"coordinates\":null,\"dimension\":\"height\",\"group\":null,\"line_width\":0.1,\"location\":2.679},\"id\":\"3927\",\"type\":\"Span\"},{\"attributes\":{\"coordinates\":null,\"dimension\":\"height\",\"group\":null,\"line_width\":0.1,\"location\":2.786},\"id\":\"3928\",\"type\":\"Span\"},{\"attributes\":{\"data\":{\"grid_index\":[0],\"tempo\":[140.00014000014],\"x\":[0.0],\"y\":[2.5]},\"selected\":{\"id\":\"3960\"},\"selection_policy\":{\"id\":\"3959\"}},\"id\":\"3944\",\"type\":\"ColumnDataSource\"},{\"attributes\":{\"coordinates\":null,\"dimension\":\"height\",\"group\":null,\"line_width\":0.1,\"location\":2.893},\"id\":\"3929\",\"type\":\"Span\"},{\"attributes\":{},\"id\":\"3960\",\"type\":\"Selection\"},{\"attributes\":{\"coordinates\":null,\"dimension\":\"height\",\"group\":null,\"line_width\":0.1,\"location\":3.107},\"id\":\"3930\",\"type\":\"Span\"},{\"attributes\":{\"coordinates\":null,\"dimension\":\"height\",\"group\":null,\"line_width\":0.1,\"location\":3.214},\"id\":\"3931\",\"type\":\"Span\"},{\"attributes\":{\"source\":{\"id\":\"3944\"}},\"id\":\"3950\",\"type\":\"CDSView\"},{\"attributes\":{},\"id\":\"3959\",\"type\":\"UnionRenderers\"},{\"attributes\":{\"coordinates\":null,\"dimension\":\"height\",\"group\":null,\"line_width\":0.5,\"location\":0.0},\"id\":\"3934\",\"type\":\"Span\"},{\"attributes\":{\"coordinates\":null,\"dimension\":\"height\",\"group\":null,\"line_width\":0.5,\"location\":0.429},\"id\":\"3935\",\"type\":\"Span\"},{\"attributes\":{\"coordinates\":null,\"dimension\":\"height\",\"group\":null,\"line_width\":0.5,\"location\":0.857},\"id\":\"3936\",\"type\":\"Span\"},{\"attributes\":{\"coordinates\":null,\"dimension\":\"height\",\"group\":null,\"line_width\":0.5,\"location\":1.286},\"id\":\"3937\",\"type\":\"Span\"},{\"attributes\":{\"coordinates\":null,\"dimension\":\"height\",\"group\":null,\"line_width\":0.5,\"location\":1.714},\"id\":\"3938\",\"type\":\"Span\"},{\"attributes\":{},\"id\":\"4008\",\"type\":\"Selection\"},{\"attributes\":{\"coordinates\":null,\"dimension\":\"height\",\"group\":null,\"line_width\":0.5,\"location\":2.143},\"id\":\"3939\",\"type\":\"Span\"},{\"attributes\":{\"data\":{\"bottom\":{\"__ndarray__\":\"mpmZmZmZ6T+amZmZmZnJv5qZmZmZmek/mpmZmZmZ6T+amZmZmZnpP5qZmZmZmcm/mpmZmZmZ6T+amZmZmZnpPw==\",\"dtype\":\"float64\",\"order\":\"little\",\"shape\":[8]},\"end\":[0.6740299999999999,0.9284759999999999,1.6517259999999998,1.8258149999999997,2.397232,2.6428339999999997,2.834792,3.2499519999999995],\"grid_line\":[6,8,15,17,22,24,26,30],\"instrument\":[\"Right Hand\",\"Left Hand\",\"Right Hand\",\"Right Hand\",\"Right Hand\",\"Left Hand\",\"Right Hand\",\"Right Hand\"],\"midi\":[74,60,74,74,74,60,74,74],\"offset\":[-0.21,0.168,-0.082,-0.455,-0.124,0.162,-0.044,-0.164],\"offset_sec\":[-0.022,0.018,-0.009,-0.049,-0.013,0.017,-0.005,-0.018],\"start\":[0.62053,0.874976,1.598226,1.7723149999999999,2.343732,2.589334,2.781292,3.196452],\"top\":{\"__ndarray__\":\"MzMzMzMz8z+amZmZmZnJPzMzMzMzM/M/MzMzMzMz8z8zMzMzMzPzP5qZmZmZmck/MzMzMzMz8z8zMzMzMzPzPw==\",\"dtype\":\"float64\",\"order\":\"little\",\"shape\":[8]},\"velocity\":[0.205,0.882,0.346,0.26,0.236,1.0,0.307,0.299],\"voice_index\":[1,0,1,1,1,0,1,1]},\"selected\":{\"id\":\"3900\"},\"selection_policy\":{\"id\":\"3899\"}},\"id\":\"3884\",\"type\":\"ColumnDataSource\"},{\"attributes\":{\"coordinates\":null,\"dimension\":\"height\",\"group\":null,\"line_width\":0.5,\"location\":2.572},\"id\":\"3940\",\"type\":\"Span\"},{\"attributes\":{\"coordinates\":null,\"dimension\":\"height\",\"group\":null,\"line_width\":0.5,\"location\":3.0},\"id\":\"3941\",\"type\":\"Span\"},{\"attributes\":{\"callback\":null,\"renderers\":[{\"id\":\"3970\"}],\"tooltips\":[[\"Numerator\",\"@Numerator\"],[\"Denominator\",\"@Denominator\"],[\"grid_index\",\"@grid_index\"]]},\"id\":\"3986\",\"type\":\"HoverTool\"},{\"attributes\":{\"label\":{\"value\":\"Tempo\"},\"renderers\":[{\"id\":\"3949\"}]},\"id\":\"3962\",\"type\":\"LegendItem\"},{\"attributes\":{\"callback\":null,\"renderers\":[{\"id\":\"3949\"}],\"tooltips\":[[\"tempo\",\"@tempo\"],[\"grid_index\",\"@grid_index\"]]},\"id\":\"3963\",\"type\":\"HoverTool\"},{\"attributes\":{\"data\":{\"x\":[0.0],\"y\":[1.5]},\"selected\":{\"id\":\"4008\"},\"selection_policy\":{\"id\":\"4007\"}},\"id\":\"3988\",\"type\":\"ColumnDataSource\"},{\"attributes\":{\"fill_color\":{\"value\":\"#1EA087\"},\"line_color\":{\"value\":\"#1EA087\"},\"size\":{\"value\":10},\"x\":{\"field\":\"x\"},\"y\":{\"field\":\"y\"}},\"id\":\"3990\",\"type\":\"Circle\"},{\"attributes\":{\"fill_alpha\":{\"value\":0.1},\"fill_color\":{\"value\":\"#1EA087\"},\"hatch_alpha\":{\"value\":0.1},\"line_alpha\":{\"value\":0.1},\"line_color\":{\"value\":\"#1EA087\"},\"size\":{\"value\":10},\"x\":{\"field\":\"x\"},\"y\":{\"field\":\"y\"}},\"id\":\"3991\",\"type\":\"Circle\"},{\"attributes\":{\"source\":{\"id\":\"3988\"}},\"id\":\"3994\",\"type\":\"CDSView\"},{\"attributes\":{\"callback\":null,\"renderers\":[{\"id\":\"3993\"}],\"tooltips\":[]},\"id\":\"4011\",\"type\":\"HoverTool\"},{\"attributes\":{},\"id\":\"4007\",\"type\":\"UnionRenderers\"},{\"attributes\":{\"label\":{\"value\":\"Metadata\"},\"renderers\":[{\"id\":\"3993\"}]},\"id\":\"4010\",\"type\":\"LegendItem\"},{\"attributes\":{\"coordinates\":null,\"data_source\":{\"id\":\"3988\"},\"glyph\":{\"id\":\"3990\"},\"group\":null,\"hover_glyph\":null,\"muted_glyph\":{\"id\":\"3992\"},\"nonselection_glyph\":{\"id\":\"3991\"},\"view\":{\"id\":\"3994\"}},\"id\":\"3993\",\"type\":\"GlyphRenderer\"},{\"attributes\":{\"fill_color\":{\"value\":\"#70CE56\"},\"line_color\":{\"value\":\"#70CE56\"},\"size\":{\"value\":10},\"x\":{\"field\":\"x\"},\"y\":{\"field\":\"y\"}},\"id\":\"3967\",\"type\":\"Circle\"},{\"attributes\":{\"data\":{\"Denominator\":[4],\"Numerator\":[4],\"grid_index\":[0],\"x\":[0.0],\"y\":[2]},\"selected\":{\"id\":\"3983\"},\"selection_policy\":{\"id\":\"3982\"}},\"id\":\"3965\",\"type\":\"ColumnDataSource\"},{\"attributes\":{\"fill_alpha\":{\"value\":0.1},\"fill_color\":{\"value\":\"#70CE56\"},\"hatch_alpha\":{\"value\":0.1},\"line_alpha\":{\"value\":0.1},\"line_color\":{\"value\":\"#70CE56\"},\"size\":{\"value\":10},\"x\":{\"field\":\"x\"},\"y\":{\"field\":\"y\"}},\"id\":\"3968\",\"type\":\"Circle\"},{\"attributes\":{\"fill_alpha\":{\"value\":0.2},\"fill_color\":{\"value\":\"#1EA087\"},\"hatch_alpha\":{\"value\":0.2},\"line_alpha\":{\"value\":0.2},\"line_color\":{\"value\":\"#1EA087\"},\"size\":{\"value\":10},\"x\":{\"field\":\"x\"},\"y\":{\"field\":\"y\"}},\"id\":\"3992\",\"type\":\"Circle\"}],\"root_ids\":[\"3853\"]},\"title\":\"Bokeh Application\",\"version\":\"2.4.3\"}};\n",
       "  const render_items = [{\"docid\":\"06afdb06-e27e-464b-a67a-13b0c79532ed\",\"root_ids\":[\"3853\"],\"roots\":{\"3853\":\"e042b7d9-2ebe-41a3-a43b-c28ae7067ff4\"}}];\n",
       "  root.Bokeh.embed.embed_items_notebook(docs_json, render_items);\n",
       "  }\n",
       "  if (root.Bokeh !== undefined) {\n",
       "    embed_document(root);\n",
       "  } else {\n",
       "    let attempts = 0;\n",
       "    const timer = setInterval(function(root) {\n",
       "      if (root.Bokeh !== undefined) {\n",
       "        clearInterval(timer);\n",
       "        embed_document(root);\n",
       "      } else {\n",
       "        attempts++;\n",
       "        if (attempts > 100) {\n",
       "          clearInterval(timer);\n",
       "          console.log(\"Bokeh: ERROR: Unable to run BokehJS code because BokehJS library is missing\");\n",
       "        }\n",
       "      }\n",
       "    }, 10, root)\n",
       "  }\n",
       "})(window);"
      ],
      "application/vnd.bokehjs_exec.v0+json": ""
     },
     "metadata": {
      "application/vnd.bokehjs_exec.v0+json": {
       "id": "3853"
      }
     },
     "output_type": "display_data"
    },
    {
     "data": {
      "text/html": [
       "<div style=\"display: table;\"><div style=\"display: table-row;\"><div style=\"display: table-cell;\"><b title=\"bokeh.plotting.figure.Figure\">Figure</b>(</div><div style=\"display: table-cell;\">id&nbsp;=&nbsp;'3853', <span id=\"4119\" style=\"cursor: pointer;\">&hellip;)</span></div></div><div class=\"4118\" style=\"display: none;\"><div style=\"display: table-cell;\"></div><div style=\"display: table-cell;\">above&nbsp;=&nbsp;[],</div></div><div class=\"4118\" style=\"display: none;\"><div style=\"display: table-cell;\"></div><div style=\"display: table-cell;\">align&nbsp;=&nbsp;'start',</div></div><div class=\"4118\" style=\"display: none;\"><div style=\"display: table-cell;\"></div><div style=\"display: table-cell;\">aspect_ratio&nbsp;=&nbsp;None,</div></div><div class=\"4118\" style=\"display: none;\"><div style=\"display: table-cell;\"></div><div style=\"display: table-cell;\">aspect_scale&nbsp;=&nbsp;1,</div></div><div class=\"4118\" style=\"display: none;\"><div style=\"display: table-cell;\"></div><div style=\"display: table-cell;\">background&nbsp;=&nbsp;None,</div></div><div class=\"4118\" style=\"display: none;\"><div style=\"display: table-cell;\"></div><div style=\"display: table-cell;\">background_fill_alpha&nbsp;=&nbsp;1.0,</div></div><div class=\"4118\" style=\"display: none;\"><div style=\"display: table-cell;\"></div><div style=\"display: table-cell;\">background_fill_color&nbsp;=&nbsp;'#ffffff',</div></div><div class=\"4118\" style=\"display: none;\"><div style=\"display: table-cell;\"></div><div style=\"display: table-cell;\">below&nbsp;=&nbsp;[LinearAxis(id='3862', ...)],</div></div><div class=\"4118\" style=\"display: none;\"><div style=\"display: table-cell;\"></div><div style=\"display: table-cell;\">border_fill_alpha&nbsp;=&nbsp;1.0,</div></div><div class=\"4118\" style=\"display: none;\"><div style=\"display: table-cell;\"></div><div style=\"display: table-cell;\">border_fill_color&nbsp;=&nbsp;'#ffffff',</div></div><div class=\"4118\" style=\"display: none;\"><div style=\"display: table-cell;\"></div><div style=\"display: table-cell;\">center&nbsp;=&nbsp;[Grid(id='3865', ...), Grid(id='3869', ...), Legend(id='3902', ...), Span(id='3909', ...), Span(id='3910', ...), Span(id='3911', ...), Span(id='3912', ...), Span(id='3913', ...), Span(id='3914', ...), Span(id='3915', ...), Span(id='3916', ...), Span(id='3917', ...), Span(id='3918', ...), Span(id='3919', ...), Span(id='3920', ...), Span(id='3921', ...), Span(id='3922', ...), Span(id='3923', ...), Span(id='3924', ...), Span(id='3925', ...), Span(id='3926', ...), Span(id='3927', ...), Span(id='3928', ...), Span(id='3929', ...), Span(id='3930', ...), Span(id='3931', ...), Span(id='3934', ...), Span(id='3935', ...), Span(id='3936', ...), Span(id='3937', ...), Span(id='3938', ...), Span(id='3939', ...), Span(id='3940', ...), Span(id='3941', ...), Span(id='3942', ...), Span(id='3943', ...)],</div></div><div class=\"4118\" style=\"display: none;\"><div style=\"display: table-cell;\"></div><div style=\"display: table-cell;\">css_classes&nbsp;=&nbsp;[],</div></div><div class=\"4118\" style=\"display: none;\"><div style=\"display: table-cell;\"></div><div style=\"display: table-cell;\">disabled&nbsp;=&nbsp;False,</div></div><div class=\"4118\" style=\"display: none;\"><div style=\"display: table-cell;\"></div><div style=\"display: table-cell;\">extra_x_ranges&nbsp;=&nbsp;{},</div></div><div class=\"4118\" style=\"display: none;\"><div style=\"display: table-cell;\"></div><div style=\"display: table-cell;\">extra_x_scales&nbsp;=&nbsp;{},</div></div><div class=\"4118\" style=\"display: none;\"><div style=\"display: table-cell;\"></div><div style=\"display: table-cell;\">extra_y_ranges&nbsp;=&nbsp;{},</div></div><div class=\"4118\" style=\"display: none;\"><div style=\"display: table-cell;\"></div><div style=\"display: table-cell;\">extra_y_scales&nbsp;=&nbsp;{},</div></div><div class=\"4118\" style=\"display: none;\"><div style=\"display: table-cell;\"></div><div style=\"display: table-cell;\">frame_height&nbsp;=&nbsp;None,</div></div><div class=\"4118\" style=\"display: none;\"><div style=\"display: table-cell;\"></div><div style=\"display: table-cell;\">frame_width&nbsp;=&nbsp;None,</div></div><div class=\"4118\" style=\"display: none;\"><div style=\"display: table-cell;\"></div><div style=\"display: table-cell;\">height&nbsp;=&nbsp;400,</div></div><div class=\"4118\" style=\"display: none;\"><div style=\"display: table-cell;\"></div><div style=\"display: table-cell;\">height_policy&nbsp;=&nbsp;'auto',</div></div><div class=\"4118\" style=\"display: none;\"><div style=\"display: table-cell;\"></div><div style=\"display: table-cell;\">hidpi&nbsp;=&nbsp;True,</div></div><div class=\"4118\" style=\"display: none;\"><div style=\"display: table-cell;\"></div><div style=\"display: table-cell;\">inner_height&nbsp;=&nbsp;0,</div></div><div class=\"4118\" style=\"display: none;\"><div style=\"display: table-cell;\"></div><div style=\"display: table-cell;\">inner_width&nbsp;=&nbsp;0,</div></div><div class=\"4118\" style=\"display: none;\"><div style=\"display: table-cell;\"></div><div style=\"display: table-cell;\">js_event_callbacks&nbsp;=&nbsp;{},</div></div><div class=\"4118\" style=\"display: none;\"><div style=\"display: table-cell;\"></div><div style=\"display: table-cell;\">js_property_callbacks&nbsp;=&nbsp;{},</div></div><div class=\"4118\" style=\"display: none;\"><div style=\"display: table-cell;\"></div><div style=\"display: table-cell;\">left&nbsp;=&nbsp;[LinearAxis(id='3866', ...)],</div></div><div class=\"4118\" style=\"display: none;\"><div style=\"display: table-cell;\"></div><div style=\"display: table-cell;\">lod_factor&nbsp;=&nbsp;10,</div></div><div class=\"4118\" style=\"display: none;\"><div style=\"display: table-cell;\"></div><div style=\"display: table-cell;\">lod_interval&nbsp;=&nbsp;300,</div></div><div class=\"4118\" style=\"display: none;\"><div style=\"display: table-cell;\"></div><div style=\"display: table-cell;\">lod_threshold&nbsp;=&nbsp;2000,</div></div><div class=\"4118\" style=\"display: none;\"><div style=\"display: table-cell;\"></div><div style=\"display: table-cell;\">lod_timeout&nbsp;=&nbsp;500,</div></div><div class=\"4118\" style=\"display: none;\"><div style=\"display: table-cell;\"></div><div style=\"display: table-cell;\">margin&nbsp;=&nbsp;(0, 0, 0, 0),</div></div><div class=\"4118\" style=\"display: none;\"><div style=\"display: table-cell;\"></div><div style=\"display: table-cell;\">match_aspect&nbsp;=&nbsp;False,</div></div><div class=\"4118\" style=\"display: none;\"><div style=\"display: table-cell;\"></div><div style=\"display: table-cell;\">max_height&nbsp;=&nbsp;None,</div></div><div class=\"4118\" style=\"display: none;\"><div style=\"display: table-cell;\"></div><div style=\"display: table-cell;\">max_width&nbsp;=&nbsp;None,</div></div><div class=\"4118\" style=\"display: none;\"><div style=\"display: table-cell;\"></div><div style=\"display: table-cell;\">min_border&nbsp;=&nbsp;5,</div></div><div class=\"4118\" style=\"display: none;\"><div style=\"display: table-cell;\"></div><div style=\"display: table-cell;\">min_border_bottom&nbsp;=&nbsp;None,</div></div><div class=\"4118\" style=\"display: none;\"><div style=\"display: table-cell;\"></div><div style=\"display: table-cell;\">min_border_left&nbsp;=&nbsp;None,</div></div><div class=\"4118\" style=\"display: none;\"><div style=\"display: table-cell;\"></div><div style=\"display: table-cell;\">min_border_right&nbsp;=&nbsp;None,</div></div><div class=\"4118\" style=\"display: none;\"><div style=\"display: table-cell;\"></div><div style=\"display: table-cell;\">min_border_top&nbsp;=&nbsp;None,</div></div><div class=\"4118\" style=\"display: none;\"><div style=\"display: table-cell;\"></div><div style=\"display: table-cell;\">min_height&nbsp;=&nbsp;None,</div></div><div class=\"4118\" style=\"display: none;\"><div style=\"display: table-cell;\"></div><div style=\"display: table-cell;\">min_width&nbsp;=&nbsp;None,</div></div><div class=\"4118\" style=\"display: none;\"><div style=\"display: table-cell;\"></div><div style=\"display: table-cell;\">name&nbsp;=&nbsp;None,</div></div><div class=\"4118\" style=\"display: none;\"><div style=\"display: table-cell;\"></div><div style=\"display: table-cell;\">outer_height&nbsp;=&nbsp;0,</div></div><div class=\"4118\" style=\"display: none;\"><div style=\"display: table-cell;\"></div><div style=\"display: table-cell;\">outer_width&nbsp;=&nbsp;0,</div></div><div class=\"4118\" style=\"display: none;\"><div style=\"display: table-cell;\"></div><div style=\"display: table-cell;\">outline_line_alpha&nbsp;=&nbsp;1.0,</div></div><div class=\"4118\" style=\"display: none;\"><div style=\"display: table-cell;\"></div><div style=\"display: table-cell;\">outline_line_cap&nbsp;=&nbsp;'butt',</div></div><div class=\"4118\" style=\"display: none;\"><div style=\"display: table-cell;\"></div><div style=\"display: table-cell;\">outline_line_color&nbsp;=&nbsp;'#e5e5e5',</div></div><div class=\"4118\" style=\"display: none;\"><div style=\"display: table-cell;\"></div><div style=\"display: table-cell;\">outline_line_dash&nbsp;=&nbsp;[],</div></div><div class=\"4118\" style=\"display: none;\"><div style=\"display: table-cell;\"></div><div style=\"display: table-cell;\">outline_line_dash_offset&nbsp;=&nbsp;0,</div></div><div class=\"4118\" style=\"display: none;\"><div style=\"display: table-cell;\"></div><div style=\"display: table-cell;\">outline_line_join&nbsp;=&nbsp;'bevel',</div></div><div class=\"4118\" style=\"display: none;\"><div style=\"display: table-cell;\"></div><div style=\"display: table-cell;\">outline_line_width&nbsp;=&nbsp;1,</div></div><div class=\"4118\" style=\"display: none;\"><div style=\"display: table-cell;\"></div><div style=\"display: table-cell;\">output_backend&nbsp;=&nbsp;'canvas',</div></div><div class=\"4118\" style=\"display: none;\"><div style=\"display: table-cell;\"></div><div style=\"display: table-cell;\">renderers&nbsp;=&nbsp;[GlyphRenderer(id='3889', ...), GlyphRenderer(id='3949', ...), GlyphRenderer(id='3970', ...), GlyphRenderer(id='3993', ...)],</div></div><div class=\"4118\" style=\"display: none;\"><div style=\"display: table-cell;\"></div><div style=\"display: table-cell;\">reset_policy&nbsp;=&nbsp;'standard',</div></div><div class=\"4118\" style=\"display: none;\"><div style=\"display: table-cell;\"></div><div style=\"display: table-cell;\">right&nbsp;=&nbsp;[Legend(id='3902', ...)],</div></div><div class=\"4118\" style=\"display: none;\"><div style=\"display: table-cell;\"></div><div style=\"display: table-cell;\">sizing_mode&nbsp;=&nbsp;None,</div></div><div class=\"4118\" style=\"display: none;\"><div style=\"display: table-cell;\"></div><div style=\"display: table-cell;\">subscribed_events&nbsp;=&nbsp;[],</div></div><div class=\"4118\" style=\"display: none;\"><div style=\"display: table-cell;\"></div><div style=\"display: table-cell;\">syncable&nbsp;=&nbsp;True,</div></div><div class=\"4118\" style=\"display: none;\"><div style=\"display: table-cell;\"></div><div style=\"display: table-cell;\">tags&nbsp;=&nbsp;[],</div></div><div class=\"4118\" style=\"display: none;\"><div style=\"display: table-cell;\"></div><div style=\"display: table-cell;\">title&nbsp;=&nbsp;Title(id='3891', ...),</div></div><div class=\"4118\" style=\"display: none;\"><div style=\"display: table-cell;\"></div><div style=\"display: table-cell;\">title_location&nbsp;=&nbsp;'above',</div></div><div class=\"4118\" style=\"display: none;\"><div style=\"display: table-cell;\"></div><div style=\"display: table-cell;\">toolbar&nbsp;=&nbsp;Toolbar(id='3877', ...),</div></div><div class=\"4118\" style=\"display: none;\"><div style=\"display: table-cell;\"></div><div style=\"display: table-cell;\">toolbar_location&nbsp;=&nbsp;'right',</div></div><div class=\"4118\" style=\"display: none;\"><div style=\"display: table-cell;\"></div><div style=\"display: table-cell;\">toolbar_sticky&nbsp;=&nbsp;True,</div></div><div class=\"4118\" style=\"display: none;\"><div style=\"display: table-cell;\"></div><div style=\"display: table-cell;\">visible&nbsp;=&nbsp;True,</div></div><div class=\"4118\" style=\"display: none;\"><div style=\"display: table-cell;\"></div><div style=\"display: table-cell;\">width&nbsp;=&nbsp;800,</div></div><div class=\"4118\" style=\"display: none;\"><div style=\"display: table-cell;\"></div><div style=\"display: table-cell;\">width_policy&nbsp;=&nbsp;'auto',</div></div><div class=\"4118\" style=\"display: none;\"><div style=\"display: table-cell;\"></div><div style=\"display: table-cell;\">x_range&nbsp;=&nbsp;DataRange1d(id='3854', ...),</div></div><div class=\"4118\" style=\"display: none;\"><div style=\"display: table-cell;\"></div><div style=\"display: table-cell;\">x_scale&nbsp;=&nbsp;LinearScale(id='3858', ...),</div></div><div class=\"4118\" style=\"display: none;\"><div style=\"display: table-cell;\"></div><div style=\"display: table-cell;\">y_range&nbsp;=&nbsp;Range1d(id='3856', ...),</div></div><div class=\"4118\" style=\"display: none;\"><div style=\"display: table-cell;\"></div><div style=\"display: table-cell;\">y_scale&nbsp;=&nbsp;LinearScale(id='3860', ...))</div></div></div>\n",
       "<script>\n",
       "(function() {\n",
       "  let expanded = false;\n",
       "  const ellipsis = document.getElementById(\"4119\");\n",
       "  ellipsis.addEventListener(\"click\", function() {\n",
       "    const rows = document.getElementsByClassName(\"4118\");\n",
       "    for (let i = 0; i < rows.length; i++) {\n",
       "      const el = rows[i];\n",
       "      el.style.display = expanded ? \"none\" : \"table-row\";\n",
       "    }\n",
       "    ellipsis.innerHTML = expanded ? \"&hellip;)\" : \"&lsaquo;&lsaquo;&lsaquo;\";\n",
       "    expanded = !expanded;\n",
       "  });\n",
       "})();\n",
       "</script>\n"
      ],
      "text/plain": [
       "Figure(id='3853', ...)"
      ]
     },
     "execution_count": 33,
     "metadata": {},
     "output_type": "execute_result"
    }
   ],
   "source": [
    "from bokeh.io import output_notebook, reset_output\n",
    "try:\n",
    "    reset_output()\n",
    "    output_notebook()\n",
    "except:\n",
    "    output_notebook()\n",
    "    \n",
    "hvo_seq_original.to_html_plot(show_figure=True)\n",
    "hvo_seq_p1_rep1.to_html_plot(show_figure=True)"
   ]
  },
  {
   "cell_type": "code",
   "execution_count": null,
   "id": "21a684eb",
   "metadata": {},
   "outputs": [],
   "source": []
  }
 ],
 "metadata": {
  "kernelspec": {
   "display_name": "GrooveTransformer",
   "language": "python",
   "name": "groovetransformer"
  },
  "language_info": {
   "codemirror_mode": {
    "name": "ipython",
    "version": 3
   },
   "file_extension": ".py",
   "mimetype": "text/x-python",
   "name": "python",
   "nbconvert_exporter": "python",
   "pygments_lexer": "ipython3",
   "version": "3.9.16"
  }
 },
 "nbformat": 4,
 "nbformat_minor": 5
}
